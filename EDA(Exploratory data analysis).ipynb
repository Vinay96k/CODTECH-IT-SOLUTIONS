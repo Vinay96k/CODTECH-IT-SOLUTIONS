{
 "cells": [
  {
   "cell_type": "code",
   "execution_count": 45,
   "id": "2400ca58-0619-4c46-8769-a5faf0c1904a",
   "metadata": {},
   "outputs": [],
   "source": [
    "import pandas as pd\n",
    "import matplotlib.pyplot as plt\n",
    "import seaborn as sns\n",
    "import numpy as np\n",
    "import warnings \n",
    "warnings.filterwarnings(\"ignore\")"
   ]
  },
  {
   "cell_type": "code",
   "execution_count": 28,
   "id": "8b3325db-8037-4b7f-a9ab-0d81302b7d54",
   "metadata": {},
   "outputs": [],
   "source": [
    "dataset=pd.read_csv(\"autos_dataset1.csv\")"
   ]
  },
  {
   "cell_type": "code",
   "execution_count": 29,
   "id": "85560895-966b-49da-87b9-2d4e28b00a9a",
   "metadata": {},
   "outputs": [
    {
     "data": {
      "text/html": [
       "<div>\n",
       "<style scoped>\n",
       "    .dataframe tbody tr th:only-of-type {\n",
       "        vertical-align: middle;\n",
       "    }\n",
       "\n",
       "    .dataframe tbody tr th {\n",
       "        vertical-align: top;\n",
       "    }\n",
       "\n",
       "    .dataframe thead th {\n",
       "        text-align: right;\n",
       "    }\n",
       "</style>\n",
       "<table border=\"1\" class=\"dataframe\">\n",
       "  <thead>\n",
       "    <tr style=\"text-align: right;\">\n",
       "      <th></th>\n",
       "      <th>symboling</th>\n",
       "      <th>normalized-losses</th>\n",
       "      <th>make</th>\n",
       "      <th>fuel-type</th>\n",
       "      <th>aspiration</th>\n",
       "      <th>num-of-doors</th>\n",
       "      <th>body-style</th>\n",
       "      <th>drive-wheels</th>\n",
       "      <th>engine-location</th>\n",
       "      <th>wheel-base</th>\n",
       "      <th>...</th>\n",
       "      <th>engine-size</th>\n",
       "      <th>fuel-system</th>\n",
       "      <th>bore</th>\n",
       "      <th>stroke</th>\n",
       "      <th>compression-ratio</th>\n",
       "      <th>horsepower</th>\n",
       "      <th>peak-rpm</th>\n",
       "      <th>city-mpg</th>\n",
       "      <th>highway-mpg</th>\n",
       "      <th>price</th>\n",
       "    </tr>\n",
       "  </thead>\n",
       "  <tbody>\n",
       "    <tr>\n",
       "      <th>0</th>\n",
       "      <td>3</td>\n",
       "      <td>?</td>\n",
       "      <td>alfa-romero</td>\n",
       "      <td>gas</td>\n",
       "      <td>std</td>\n",
       "      <td>two</td>\n",
       "      <td>convertible</td>\n",
       "      <td>rwd</td>\n",
       "      <td>front</td>\n",
       "      <td>88.6</td>\n",
       "      <td>...</td>\n",
       "      <td>130</td>\n",
       "      <td>mpfi</td>\n",
       "      <td>3.47</td>\n",
       "      <td>2.68</td>\n",
       "      <td>9.0</td>\n",
       "      <td>111</td>\n",
       "      <td>5000</td>\n",
       "      <td>21</td>\n",
       "      <td>27</td>\n",
       "      <td>13495</td>\n",
       "    </tr>\n",
       "    <tr>\n",
       "      <th>1</th>\n",
       "      <td>3</td>\n",
       "      <td>?</td>\n",
       "      <td>alfa-romero</td>\n",
       "      <td>gas</td>\n",
       "      <td>std</td>\n",
       "      <td>two</td>\n",
       "      <td>convertible</td>\n",
       "      <td>rwd</td>\n",
       "      <td>front</td>\n",
       "      <td>88.6</td>\n",
       "      <td>...</td>\n",
       "      <td>130</td>\n",
       "      <td>mpfi</td>\n",
       "      <td>3.47</td>\n",
       "      <td>2.68</td>\n",
       "      <td>9.0</td>\n",
       "      <td>111</td>\n",
       "      <td>5000</td>\n",
       "      <td>21</td>\n",
       "      <td>27</td>\n",
       "      <td>16500</td>\n",
       "    </tr>\n",
       "    <tr>\n",
       "      <th>2</th>\n",
       "      <td>1</td>\n",
       "      <td>?</td>\n",
       "      <td>alfa-romero</td>\n",
       "      <td>gas</td>\n",
       "      <td>std</td>\n",
       "      <td>two</td>\n",
       "      <td>hatchback</td>\n",
       "      <td>rwd</td>\n",
       "      <td>front</td>\n",
       "      <td>94.5</td>\n",
       "      <td>...</td>\n",
       "      <td>152</td>\n",
       "      <td>mpfi</td>\n",
       "      <td>2.68</td>\n",
       "      <td>3.47</td>\n",
       "      <td>9.0</td>\n",
       "      <td>154</td>\n",
       "      <td>5000</td>\n",
       "      <td>19</td>\n",
       "      <td>26</td>\n",
       "      <td>16500</td>\n",
       "    </tr>\n",
       "    <tr>\n",
       "      <th>3</th>\n",
       "      <td>2</td>\n",
       "      <td>164</td>\n",
       "      <td>audi</td>\n",
       "      <td>gas</td>\n",
       "      <td>std</td>\n",
       "      <td>four</td>\n",
       "      <td>sedan</td>\n",
       "      <td>fwd</td>\n",
       "      <td>front</td>\n",
       "      <td>99.8</td>\n",
       "      <td>...</td>\n",
       "      <td>109</td>\n",
       "      <td>mpfi</td>\n",
       "      <td>3.19</td>\n",
       "      <td>3.4</td>\n",
       "      <td>10.0</td>\n",
       "      <td>102</td>\n",
       "      <td>5500</td>\n",
       "      <td>24</td>\n",
       "      <td>30</td>\n",
       "      <td>13950</td>\n",
       "    </tr>\n",
       "    <tr>\n",
       "      <th>4</th>\n",
       "      <td>2</td>\n",
       "      <td>164</td>\n",
       "      <td>audi</td>\n",
       "      <td>gas</td>\n",
       "      <td>std</td>\n",
       "      <td>four</td>\n",
       "      <td>sedan</td>\n",
       "      <td>4wd</td>\n",
       "      <td>front</td>\n",
       "      <td>99.4</td>\n",
       "      <td>...</td>\n",
       "      <td>136</td>\n",
       "      <td>mpfi</td>\n",
       "      <td>3.19</td>\n",
       "      <td>3.4</td>\n",
       "      <td>8.0</td>\n",
       "      <td>115</td>\n",
       "      <td>5500</td>\n",
       "      <td>18</td>\n",
       "      <td>22</td>\n",
       "      <td>17450</td>\n",
       "    </tr>\n",
       "    <tr>\n",
       "      <th>5</th>\n",
       "      <td>2</td>\n",
       "      <td>?</td>\n",
       "      <td>audi</td>\n",
       "      <td>gas</td>\n",
       "      <td>std</td>\n",
       "      <td>two</td>\n",
       "      <td>sedan</td>\n",
       "      <td>fwd</td>\n",
       "      <td>front</td>\n",
       "      <td>99.8</td>\n",
       "      <td>...</td>\n",
       "      <td>136</td>\n",
       "      <td>mpfi</td>\n",
       "      <td>3.19</td>\n",
       "      <td>3.4</td>\n",
       "      <td>8.5</td>\n",
       "      <td>110</td>\n",
       "      <td>5500</td>\n",
       "      <td>19</td>\n",
       "      <td>25</td>\n",
       "      <td>15250</td>\n",
       "    </tr>\n",
       "    <tr>\n",
       "      <th>6</th>\n",
       "      <td>1</td>\n",
       "      <td>158</td>\n",
       "      <td>audi</td>\n",
       "      <td>gas</td>\n",
       "      <td>std</td>\n",
       "      <td>four</td>\n",
       "      <td>sedan</td>\n",
       "      <td>fwd</td>\n",
       "      <td>front</td>\n",
       "      <td>105.8</td>\n",
       "      <td>...</td>\n",
       "      <td>136</td>\n",
       "      <td>mpfi</td>\n",
       "      <td>3.19</td>\n",
       "      <td>3.4</td>\n",
       "      <td>8.5</td>\n",
       "      <td>110</td>\n",
       "      <td>5500</td>\n",
       "      <td>19</td>\n",
       "      <td>25</td>\n",
       "      <td>17710</td>\n",
       "    </tr>\n",
       "    <tr>\n",
       "      <th>7</th>\n",
       "      <td>1</td>\n",
       "      <td>?</td>\n",
       "      <td>audi</td>\n",
       "      <td>gas</td>\n",
       "      <td>std</td>\n",
       "      <td>four</td>\n",
       "      <td>wagon</td>\n",
       "      <td>fwd</td>\n",
       "      <td>front</td>\n",
       "      <td>105.8</td>\n",
       "      <td>...</td>\n",
       "      <td>136</td>\n",
       "      <td>mpfi</td>\n",
       "      <td>3.19</td>\n",
       "      <td>3.4</td>\n",
       "      <td>8.5</td>\n",
       "      <td>110</td>\n",
       "      <td>5500</td>\n",
       "      <td>19</td>\n",
       "      <td>25</td>\n",
       "      <td>18920</td>\n",
       "    </tr>\n",
       "    <tr>\n",
       "      <th>8</th>\n",
       "      <td>1</td>\n",
       "      <td>158</td>\n",
       "      <td>audi</td>\n",
       "      <td>gas</td>\n",
       "      <td>turbo</td>\n",
       "      <td>four</td>\n",
       "      <td>sedan</td>\n",
       "      <td>fwd</td>\n",
       "      <td>front</td>\n",
       "      <td>105.8</td>\n",
       "      <td>...</td>\n",
       "      <td>131</td>\n",
       "      <td>mpfi</td>\n",
       "      <td>3.13</td>\n",
       "      <td>3.4</td>\n",
       "      <td>8.3</td>\n",
       "      <td>140</td>\n",
       "      <td>5500</td>\n",
       "      <td>17</td>\n",
       "      <td>20</td>\n",
       "      <td>23875</td>\n",
       "    </tr>\n",
       "    <tr>\n",
       "      <th>9</th>\n",
       "      <td>0</td>\n",
       "      <td>?</td>\n",
       "      <td>audi</td>\n",
       "      <td>gas</td>\n",
       "      <td>turbo</td>\n",
       "      <td>two</td>\n",
       "      <td>hatchback</td>\n",
       "      <td>4wd</td>\n",
       "      <td>front</td>\n",
       "      <td>99.5</td>\n",
       "      <td>...</td>\n",
       "      <td>131</td>\n",
       "      <td>mpfi</td>\n",
       "      <td>3.13</td>\n",
       "      <td>3.4</td>\n",
       "      <td>7.0</td>\n",
       "      <td>160</td>\n",
       "      <td>5500</td>\n",
       "      <td>16</td>\n",
       "      <td>22</td>\n",
       "      <td>?</td>\n",
       "    </tr>\n",
       "  </tbody>\n",
       "</table>\n",
       "<p>10 rows × 26 columns</p>\n",
       "</div>"
      ],
      "text/plain": [
       "   symboling normalized-losses         make fuel-type aspiration num-of-doors  \\\n",
       "0          3                 ?  alfa-romero       gas        std          two   \n",
       "1          3                 ?  alfa-romero       gas        std          two   \n",
       "2          1                 ?  alfa-romero       gas        std          two   \n",
       "3          2               164         audi       gas        std         four   \n",
       "4          2               164         audi       gas        std         four   \n",
       "5          2                 ?         audi       gas        std          two   \n",
       "6          1               158         audi       gas        std         four   \n",
       "7          1                 ?         audi       gas        std         four   \n",
       "8          1               158         audi       gas      turbo         four   \n",
       "9          0                 ?         audi       gas      turbo          two   \n",
       "\n",
       "    body-style drive-wheels engine-location  wheel-base  ...  engine-size  \\\n",
       "0  convertible          rwd           front        88.6  ...          130   \n",
       "1  convertible          rwd           front        88.6  ...          130   \n",
       "2    hatchback          rwd           front        94.5  ...          152   \n",
       "3        sedan          fwd           front        99.8  ...          109   \n",
       "4        sedan          4wd           front        99.4  ...          136   \n",
       "5        sedan          fwd           front        99.8  ...          136   \n",
       "6        sedan          fwd           front       105.8  ...          136   \n",
       "7        wagon          fwd           front       105.8  ...          136   \n",
       "8        sedan          fwd           front       105.8  ...          131   \n",
       "9    hatchback          4wd           front        99.5  ...          131   \n",
       "\n",
       "   fuel-system  bore  stroke compression-ratio horsepower  peak-rpm city-mpg  \\\n",
       "0         mpfi  3.47    2.68               9.0        111      5000       21   \n",
       "1         mpfi  3.47    2.68               9.0        111      5000       21   \n",
       "2         mpfi  2.68    3.47               9.0        154      5000       19   \n",
       "3         mpfi  3.19     3.4              10.0        102      5500       24   \n",
       "4         mpfi  3.19     3.4               8.0        115      5500       18   \n",
       "5         mpfi  3.19     3.4               8.5        110      5500       19   \n",
       "6         mpfi  3.19     3.4               8.5        110      5500       19   \n",
       "7         mpfi  3.19     3.4               8.5        110      5500       19   \n",
       "8         mpfi  3.13     3.4               8.3        140      5500       17   \n",
       "9         mpfi  3.13     3.4               7.0        160      5500       16   \n",
       "\n",
       "  highway-mpg  price  \n",
       "0          27  13495  \n",
       "1          27  16500  \n",
       "2          26  16500  \n",
       "3          30  13950  \n",
       "4          22  17450  \n",
       "5          25  15250  \n",
       "6          25  17710  \n",
       "7          25  18920  \n",
       "8          20  23875  \n",
       "9          22      ?  \n",
       "\n",
       "[10 rows x 26 columns]"
      ]
     },
     "execution_count": 29,
     "metadata": {},
     "output_type": "execute_result"
    }
   ],
   "source": [
    "dataset.head(10)"
   ]
  },
  {
   "cell_type": "code",
   "execution_count": 30,
   "id": "23ad8cf9-073b-4394-8a28-c4ed7382d21f",
   "metadata": {},
   "outputs": [
    {
     "data": {
      "text/plain": [
       "symboling            0\n",
       "normalized-losses    0\n",
       "make                 0\n",
       "fuel-type            0\n",
       "aspiration           0\n",
       "num-of-doors         0\n",
       "body-style           0\n",
       "drive-wheels         0\n",
       "engine-location      0\n",
       "wheel-base           0\n",
       "length               0\n",
       "width                0\n",
       "height               0\n",
       "curb-weight          0\n",
       "engine-type          0\n",
       "num-of-cylinders     0\n",
       "engine-size          0\n",
       "fuel-system          0\n",
       "bore                 0\n",
       "stroke               0\n",
       "compression-ratio    0\n",
       "horsepower           0\n",
       "peak-rpm             0\n",
       "city-mpg             0\n",
       "highway-mpg          0\n",
       "price                0\n",
       "dtype: int64"
      ]
     },
     "execution_count": 30,
     "metadata": {},
     "output_type": "execute_result"
    }
   ],
   "source": [
    "dataset.isnull().sum()"
   ]
  },
  {
   "cell_type": "code",
   "execution_count": 31,
   "id": "b4e7d027-e54b-42fd-9138-3c4186ab2df3",
   "metadata": {},
   "outputs": [
    {
     "name": "stdout",
     "output_type": "stream",
     "text": [
      "<class 'pandas.core.frame.DataFrame'>\n",
      "RangeIndex: 205 entries, 0 to 204\n",
      "Data columns (total 26 columns):\n",
      " #   Column             Non-Null Count  Dtype  \n",
      "---  ------             --------------  -----  \n",
      " 0   symboling          205 non-null    int64  \n",
      " 1   normalized-losses  205 non-null    object \n",
      " 2   make               205 non-null    object \n",
      " 3   fuel-type          205 non-null    object \n",
      " 4   aspiration         205 non-null    object \n",
      " 5   num-of-doors       205 non-null    object \n",
      " 6   body-style         205 non-null    object \n",
      " 7   drive-wheels       205 non-null    object \n",
      " 8   engine-location    205 non-null    object \n",
      " 9   wheel-base         205 non-null    float64\n",
      " 10  length             205 non-null    float64\n",
      " 11  width              205 non-null    float64\n",
      " 12  height             205 non-null    float64\n",
      " 13  curb-weight        205 non-null    int64  \n",
      " 14  engine-type        205 non-null    object \n",
      " 15  num-of-cylinders   205 non-null    object \n",
      " 16  engine-size        205 non-null    int64  \n",
      " 17  fuel-system        205 non-null    object \n",
      " 18  bore               205 non-null    object \n",
      " 19  stroke             205 non-null    object \n",
      " 20  compression-ratio  205 non-null    float64\n",
      " 21  horsepower         205 non-null    object \n",
      " 22  peak-rpm           205 non-null    object \n",
      " 23  city-mpg           205 non-null    int64  \n",
      " 24  highway-mpg        205 non-null    int64  \n",
      " 25  price              205 non-null    object \n",
      "dtypes: float64(5), int64(5), object(16)\n",
      "memory usage: 41.8+ KB\n"
     ]
    }
   ],
   "source": [
    "dataset.info()"
   ]
  },
  {
   "cell_type": "markdown",
   "id": "595a1b3a-f551-4b71-96cd-de0f318965e9",
   "metadata": {},
   "source": [
    "# 1) Symboling"
   ]
  },
  {
   "cell_type": "code",
   "execution_count": 32,
   "id": "e81e9beb-f2f4-441a-ae14-c4ece267a383",
   "metadata": {},
   "outputs": [
    {
     "data": {
      "text/plain": [
       "symboling\n",
       " 0    67\n",
       " 1    54\n",
       " 2    32\n",
       " 3    27\n",
       "-1    22\n",
       "-2     3\n",
       "Name: count, dtype: int64"
      ]
     },
     "execution_count": 32,
     "metadata": {},
     "output_type": "execute_result"
    }
   ],
   "source": [
    "dataset[\"symboling\"].value_counts()"
   ]
  },
  {
   "cell_type": "markdown",
   "id": "dba03e69-63f0-413b-b12c-ded0381d397a",
   "metadata": {},
   "source": [
    "# 2) normalized-losses "
   ]
  },
  {
   "cell_type": "code",
   "execution_count": 33,
   "id": "6dcab99b-3d27-4edc-a24f-c7180666e560",
   "metadata": {},
   "outputs": [
    {
     "data": {
      "text/plain": [
       "normalized-losses\n",
       "?      41\n",
       "161    11\n",
       "91      8\n",
       "150     7\n",
       "134     6\n",
       "128     6\n",
       "104     6\n",
       "85      5\n",
       "94      5\n",
       "65      5\n",
       "102     5\n",
       "74      5\n",
       "168     5\n",
       "103     5\n",
       "95      5\n",
       "106     4\n",
       "93      4\n",
       "118     4\n",
       "148     4\n",
       "122     4\n",
       "83      3\n",
       "125     3\n",
       "154     3\n",
       "115     3\n",
       "137     3\n",
       "101     3\n",
       "119     2\n",
       "87      2\n",
       "89      2\n",
       "192     2\n",
       "197     2\n",
       "158     2\n",
       "81      2\n",
       "188     2\n",
       "194     2\n",
       "153     2\n",
       "129     2\n",
       "108     2\n",
       "110     2\n",
       "164     2\n",
       "145     2\n",
       "113     2\n",
       "256     1\n",
       "107     1\n",
       "90      1\n",
       "231     1\n",
       "142     1\n",
       "121     1\n",
       "78      1\n",
       "98      1\n",
       "186     1\n",
       "77      1\n",
       "Name: count, dtype: int64"
      ]
     },
     "execution_count": 33,
     "metadata": {},
     "output_type": "execute_result"
    }
   ],
   "source": [
    "dataset[\"normalized-losses\"].value_counts()   #here we get the all value counts"
   ]
  },
  {
   "cell_type": "code",
   "execution_count": 34,
   "id": "14bf5cb3-d882-4645-8cf7-f3091c711d51",
   "metadata": {},
   "outputs": [
    {
     "data": {
      "text/plain": [
       "normalized-losses\n",
       "161    11\n",
       "91      8\n",
       "150     7\n",
       "128     6\n",
       "134     6\n",
       "104     6\n",
       "95      5\n",
       "102     5\n",
       "103     5\n",
       "74      5\n",
       "85      5\n",
       "168     5\n",
       "94      5\n",
       "65      5\n",
       "106     4\n",
       "122     4\n",
       "148     4\n",
       "118     4\n",
       "93      4\n",
       "101     3\n",
       "125     3\n",
       "137     3\n",
       "154     3\n",
       "83      3\n",
       "115     3\n",
       "119     2\n",
       "87      2\n",
       "194     2\n",
       "197     2\n",
       "108     2\n",
       "89      2\n",
       "164     2\n",
       "158     2\n",
       "145     2\n",
       "192     2\n",
       "188     2\n",
       "81      2\n",
       "110     2\n",
       "113     2\n",
       "129     2\n",
       "153     2\n",
       "107     1\n",
       "78      1\n",
       "186     1\n",
       "231     1\n",
       "77      1\n",
       "98      1\n",
       "121     1\n",
       "90      1\n",
       "142     1\n",
       "256     1\n",
       "Name: count, dtype: int64"
      ]
     },
     "execution_count": 34,
     "metadata": {},
     "output_type": "execute_result"
    }
   ],
   "source": [
    "dataset.replace(\"?\",np.nan,inplace=True)\n",
    "dataset[\"normalized-losses\"].value_counts()  #here we make the ? to NULL "
   ]
  },
  {
   "cell_type": "code",
   "execution_count": 37,
   "id": "bd1057c5-2dab-4b00-bbfa-8901e30d50c6",
   "metadata": {},
   "outputs": [
    {
     "data": {
      "text/plain": [
       "41"
      ]
     },
     "execution_count": 37,
     "metadata": {},
     "output_type": "execute_result"
    }
   ],
   "source": [
    "dataset[\"normalized-losses\"].isnull().sum()  # here we checks the isnull()"
   ]
  },
  {
   "cell_type": "code",
   "execution_count": 40,
   "id": "afe17553-2de7-49c7-a330-4bca3e897afd",
   "metadata": {},
   "outputs": [],
   "source": [
    "dataset[\"normalized-losses\"]=dataset[\"normalized-losses\"].astype(float)  #here we change the datatype to fill the null values with median"
   ]
  },
  {
   "cell_type": "code",
   "execution_count": 44,
   "id": "c7c3b52e-02bc-4d12-8209-9b17c7a4fb24",
   "metadata": {},
   "outputs": [
    {
     "data": {
      "text/plain": [
       "dtype('float64')"
      ]
     },
     "execution_count": 44,
     "metadata": {},
     "output_type": "execute_result"
    }
   ],
   "source": [
    "dataset[\"normalized-losses\"].dtype"
   ]
  },
  {
   "cell_type": "code",
   "execution_count": 46,
   "id": "a2181a7e-29ec-43c0-94e8-a7b6b166cdf1",
   "metadata": {},
   "outputs": [],
   "source": [
    "dataset[\"normalized-losses\"].fillna(dataset[\"normalized-losses\"].median(),inplace=True)  #here we fill null with median()"
   ]
  },
  {
   "cell_type": "code",
   "execution_count": 48,
   "id": "d0c526cf-4bd5-4291-a434-17a516c7a8cc",
   "metadata": {},
   "outputs": [
    {
     "name": "stdout",
     "output_type": "stream",
     "text": [
      "<class 'pandas.core.frame.DataFrame'>\n",
      "RangeIndex: 205 entries, 0 to 204\n",
      "Data columns (total 26 columns):\n",
      " #   Column             Non-Null Count  Dtype  \n",
      "---  ------             --------------  -----  \n",
      " 0   symboling          205 non-null    int64  \n",
      " 1   normalized-losses  205 non-null    float64\n",
      " 2   make               205 non-null    object \n",
      " 3   fuel-type          205 non-null    object \n",
      " 4   aspiration         205 non-null    object \n",
      " 5   num-of-doors       203 non-null    object \n",
      " 6   body-style         205 non-null    object \n",
      " 7   drive-wheels       205 non-null    object \n",
      " 8   engine-location    205 non-null    object \n",
      " 9   wheel-base         205 non-null    float64\n",
      " 10  length             205 non-null    float64\n",
      " 11  width              205 non-null    float64\n",
      " 12  height             205 non-null    float64\n",
      " 13  curb-weight        205 non-null    int64  \n",
      " 14  engine-type        205 non-null    object \n",
      " 15  num-of-cylinders   205 non-null    object \n",
      " 16  engine-size        205 non-null    int64  \n",
      " 17  fuel-system        205 non-null    object \n",
      " 18  bore               201 non-null    object \n",
      " 19  stroke             201 non-null    object \n",
      " 20  compression-ratio  205 non-null    float64\n",
      " 21  horsepower         203 non-null    object \n",
      " 22  peak-rpm           203 non-null    object \n",
      " 23  city-mpg           205 non-null    int64  \n",
      " 24  highway-mpg        205 non-null    int64  \n",
      " 25  price              201 non-null    object \n",
      "dtypes: float64(6), int64(5), object(15)\n",
      "memory usage: 41.8+ KB\n"
     ]
    }
   ],
   "source": [
    "dataset.info()"
   ]
  },
  {
   "cell_type": "markdown",
   "id": "4225cbb4-4004-4560-90c9-39563434bfb1",
   "metadata": {},
   "source": [
    "# 3) make"
   ]
  },
  {
   "cell_type": "code",
   "execution_count": 49,
   "id": "8139fd03-8284-41c7-9d41-59c4ae0bb1a3",
   "metadata": {},
   "outputs": [
    {
     "data": {
      "text/plain": [
       "0"
      ]
     },
     "execution_count": 49,
     "metadata": {},
     "output_type": "execute_result"
    }
   ],
   "source": [
    "dataset[\"make\"].isnull().sum()"
   ]
  },
  {
   "cell_type": "code",
   "execution_count": 47,
   "id": "f6efc420-7c17-43f0-80b9-cca5c1495fd8",
   "metadata": {},
   "outputs": [
    {
     "data": {
      "text/plain": [
       "make\n",
       "toyota           32\n",
       "nissan           18\n",
       "mazda            17\n",
       "mitsubishi       13\n",
       "honda            13\n",
       "volkswagen       12\n",
       "subaru           12\n",
       "peugot           11\n",
       "volvo            11\n",
       "dodge             9\n",
       "mercedes-benz     8\n",
       "bmw               8\n",
       "audi              7\n",
       "plymouth          7\n",
       "saab              6\n",
       "porsche           5\n",
       "isuzu             4\n",
       "jaguar            3\n",
       "chevrolet         3\n",
       "alfa-romero       3\n",
       "renault           2\n",
       "mercury           1\n",
       "Name: count, dtype: int64"
      ]
     },
     "execution_count": 47,
     "metadata": {},
     "output_type": "execute_result"
    }
   ],
   "source": [
    "dataset[\"make\"].value_counts()"
   ]
  },
  {
   "cell_type": "markdown",
   "id": "d07de9f0-40bf-4acd-bcde-def73486a40a",
   "metadata": {},
   "source": [
    "# 4) fuel-type"
   ]
  },
  {
   "cell_type": "code",
   "execution_count": 51,
   "id": "0d3822dc-9a51-478f-80dd-6fd773af262d",
   "metadata": {},
   "outputs": [
    {
     "data": {
      "text/plain": [
       "0"
      ]
     },
     "execution_count": 51,
     "metadata": {},
     "output_type": "execute_result"
    }
   ],
   "source": [
    "dataset[\"fuel-type\"].isnull().sum()"
   ]
  },
  {
   "cell_type": "code",
   "execution_count": 52,
   "id": "e1c1ec73-ad36-4100-b77c-0a615919d10f",
   "metadata": {},
   "outputs": [
    {
     "data": {
      "text/plain": [
       "fuel-type\n",
       "gas       185\n",
       "diesel     20\n",
       "Name: count, dtype: int64"
      ]
     },
     "execution_count": 52,
     "metadata": {},
     "output_type": "execute_result"
    }
   ],
   "source": [
    "dataset[\"fuel-type\"].value_counts()"
   ]
  },
  {
   "cell_type": "markdown",
   "id": "4d45556b-3ef8-4de4-afd4-bbc8ab0968f9",
   "metadata": {},
   "source": [
    "# 5) aspiration"
   ]
  },
  {
   "cell_type": "code",
   "execution_count": 54,
   "id": "4aac5539-dbd2-46d8-a494-f3c8c53e285f",
   "metadata": {},
   "outputs": [
    {
     "data": {
      "text/plain": [
       "0"
      ]
     },
     "execution_count": 54,
     "metadata": {},
     "output_type": "execute_result"
    }
   ],
   "source": [
    "dataset[\"aspiration\"].isnull().sum()"
   ]
  },
  {
   "cell_type": "code",
   "execution_count": 55,
   "id": "38580130-c0d6-4d53-975b-44e1095813e4",
   "metadata": {},
   "outputs": [
    {
     "data": {
      "text/plain": [
       "aspiration\n",
       "std      168\n",
       "turbo     37\n",
       "Name: count, dtype: int64"
      ]
     },
     "execution_count": 55,
     "metadata": {},
     "output_type": "execute_result"
    }
   ],
   "source": [
    "dataset[\"aspiration\"].value_counts()"
   ]
  },
  {
   "cell_type": "markdown",
   "id": "9a54e0e3-41ab-4170-b437-8244e285b97a",
   "metadata": {},
   "source": [
    "# 6) num-of-doors"
   ]
  },
  {
   "cell_type": "code",
   "execution_count": 58,
   "id": "c9a386b1-da52-4015-a7f1-4a42cc601cb4",
   "metadata": {},
   "outputs": [
    {
     "data": {
      "text/plain": [
       "2"
      ]
     },
     "execution_count": 58,
     "metadata": {},
     "output_type": "execute_result"
    }
   ],
   "source": [
    "dataset[\"num-of-doors\"].isnull().sum()"
   ]
  },
  {
   "cell_type": "code",
   "execution_count": 59,
   "id": "c3c06f19-e89c-41bf-bac3-bac2c1e245f1",
   "metadata": {},
   "outputs": [
    {
     "data": {
      "text/plain": [
       "num-of-doors\n",
       "four    114\n",
       "two      89\n",
       "Name: count, dtype: int64"
      ]
     },
     "execution_count": 59,
     "metadata": {},
     "output_type": "execute_result"
    }
   ],
   "source": [
    "dataset[\"num-of-doors\"].value_counts()"
   ]
  },
  {
   "cell_type": "code",
   "execution_count": 63,
   "id": "36f09065-26e9-4806-8648-7f684474f0dc",
   "metadata": {},
   "outputs": [],
   "source": [
    "dataset[\"num-of-doors\"].fillna(dataset[\"num-of-doors\"].mode()[0],inplace=True)"
   ]
  },
  {
   "cell_type": "code",
   "execution_count": 64,
   "id": "1a3fa656-52a8-4d87-82ef-a9dfc3b6be5a",
   "metadata": {},
   "outputs": [
    {
     "data": {
      "text/plain": [
       "0"
      ]
     },
     "execution_count": 64,
     "metadata": {},
     "output_type": "execute_result"
    }
   ],
   "source": [
    "dataset[\"num-of-doors\"].isnull().sum()"
   ]
  },
  {
   "cell_type": "code",
   "execution_count": 65,
   "id": "6e47041d-9d7c-44a2-b273-636549178b94",
   "metadata": {},
   "outputs": [
    {
     "data": {
      "text/plain": [
       "num-of-doors\n",
       "four    116\n",
       "two      89\n",
       "Name: count, dtype: int64"
      ]
     },
     "execution_count": 65,
     "metadata": {},
     "output_type": "execute_result"
    }
   ],
   "source": [
    "dataset[\"num-of-doors\"].value_counts()"
   ]
  },
  {
   "cell_type": "markdown",
   "id": "0f93c487-4cf0-473b-81e7-55030df39eb3",
   "metadata": {},
   "source": [
    "# 7) body-style"
   ]
  },
  {
   "cell_type": "code",
   "execution_count": 67,
   "id": "3460ad40-bf30-499f-94d6-c4344158d792",
   "metadata": {},
   "outputs": [
    {
     "data": {
      "text/plain": [
       "0"
      ]
     },
     "execution_count": 67,
     "metadata": {},
     "output_type": "execute_result"
    }
   ],
   "source": [
    "dataset[\"body-style\"].isnull().sum()"
   ]
  },
  {
   "cell_type": "code",
   "execution_count": 68,
   "id": "6f95696e-6932-46da-90cf-9c821a8f5d14",
   "metadata": {},
   "outputs": [
    {
     "data": {
      "text/plain": [
       "body-style\n",
       "sedan          96\n",
       "hatchback      70\n",
       "wagon          25\n",
       "hardtop         8\n",
       "convertible     6\n",
       "Name: count, dtype: int64"
      ]
     },
     "execution_count": 68,
     "metadata": {},
     "output_type": "execute_result"
    }
   ],
   "source": [
    "dataset[\"body-style\"].value_counts()"
   ]
  },
  {
   "cell_type": "markdown",
   "id": "863dfd0c-f438-4ebe-b86b-cea4a3e423e5",
   "metadata": {},
   "source": [
    "# 8) drive-wheels"
   ]
  },
  {
   "cell_type": "code",
   "execution_count": 69,
   "id": "b1c91f3e-430b-4867-9d9d-94344d53ac7a",
   "metadata": {},
   "outputs": [
    {
     "data": {
      "text/plain": [
       "0"
      ]
     },
     "execution_count": 69,
     "metadata": {},
     "output_type": "execute_result"
    }
   ],
   "source": [
    "dataset[\"drive-wheels\"].isnull().sum()"
   ]
  },
  {
   "cell_type": "code",
   "execution_count": 72,
   "id": "677b4730-a7da-4d96-b9b8-8b5f7e3f8d01",
   "metadata": {},
   "outputs": [
    {
     "data": {
      "text/plain": [
       "drive-wheels\n",
       "fwd    120\n",
       "rwd     76\n",
       "4wd      9\n",
       "Name: count, dtype: int64"
      ]
     },
     "execution_count": 72,
     "metadata": {},
     "output_type": "execute_result"
    }
   ],
   "source": [
    "dataset[\"drive-wheels\"].value_counts()"
   ]
  },
  {
   "cell_type": "markdown",
   "id": "089f0b23-51f2-4214-9186-d3d4f9d4a8f7",
   "metadata": {},
   "source": [
    "# 9) engine-location"
   ]
  },
  {
   "cell_type": "code",
   "execution_count": 73,
   "id": "5f16b267-b108-411c-9f4f-85239bcc9c56",
   "metadata": {},
   "outputs": [
    {
     "data": {
      "text/plain": [
       "0"
      ]
     },
     "execution_count": 73,
     "metadata": {},
     "output_type": "execute_result"
    }
   ],
   "source": [
    "dataset[\"engine-location\"].isnull().sum()"
   ]
  },
  {
   "cell_type": "code",
   "execution_count": 74,
   "id": "2abd79d4-a83b-4914-930b-8b2112176e7b",
   "metadata": {},
   "outputs": [
    {
     "data": {
      "text/plain": [
       "engine-location\n",
       "front    202\n",
       "rear       3\n",
       "Name: count, dtype: int64"
      ]
     },
     "execution_count": 74,
     "metadata": {},
     "output_type": "execute_result"
    }
   ],
   "source": [
    "dataset[\"engine-location\"].value_counts()"
   ]
  },
  {
   "cell_type": "markdown",
   "id": "84fe3839-8871-41dc-ab2b-a20bfa187b38",
   "metadata": {},
   "source": [
    "# 10) wheel-base"
   ]
  },
  {
   "cell_type": "code",
   "execution_count": 76,
   "id": "cbb4f815-22aa-4e48-ae76-16f3b1a290c0",
   "metadata": {},
   "outputs": [
    {
     "data": {
      "text/plain": [
       "0"
      ]
     },
     "execution_count": 76,
     "metadata": {},
     "output_type": "execute_result"
    }
   ],
   "source": [
    "dataset[\"wheel-base\"].isnull().sum()"
   ]
  },
  {
   "cell_type": "code",
   "execution_count": 77,
   "id": "9cc50741-b9a1-4a37-b888-d4c682b99807",
   "metadata": {},
   "outputs": [
    {
     "data": {
      "text/plain": [
       "wheel-base\n",
       "94.5     21\n",
       "93.7     20\n",
       "95.7     13\n",
       "96.5      8\n",
       "97.3      7\n",
       "98.4      7\n",
       "104.3     6\n",
       "100.4     6\n",
       "107.9     6\n",
       "98.8      6\n",
       "99.1      6\n",
       "96.3      6\n",
       "109.1     5\n",
       "93.1      5\n",
       "97.2      5\n",
       "95.9      5\n",
       "102.4     5\n",
       "97.0      4\n",
       "95.3      4\n",
       "114.2     4\n",
       "101.2     4\n",
       "110.0     3\n",
       "103.5     3\n",
       "89.5      3\n",
       "105.8     3\n",
       "96.1      2\n",
       "102.9     2\n",
       "104.5     2\n",
       "91.3      2\n",
       "96.9      2\n",
       "88.6      2\n",
       "113.0     2\n",
       "99.8      2\n",
       "115.6     2\n",
       "103.3     2\n",
       "86.6      2\n",
       "104.9     2\n",
       "93.3      1\n",
       "99.4      1\n",
       "99.5      1\n",
       "88.4      1\n",
       "94.3      1\n",
       "96.0      1\n",
       "95.1      1\n",
       "93.0      1\n",
       "102.0     1\n",
       "106.7     1\n",
       "108.0     1\n",
       "96.6      1\n",
       "99.2      1\n",
       "112.0     1\n",
       "102.7     1\n",
       "120.9     1\n",
       "Name: count, dtype: int64"
      ]
     },
     "execution_count": 77,
     "metadata": {},
     "output_type": "execute_result"
    }
   ],
   "source": [
    "dataset[\"wheel-base\"].value_counts()"
   ]
  },
  {
   "cell_type": "markdown",
   "id": "d1dc364a-b677-4856-a06f-361929d50251",
   "metadata": {},
   "source": [
    "# 11) length"
   ]
  },
  {
   "cell_type": "code",
   "execution_count": 79,
   "id": "39068291-a257-4243-9ed5-bbf08ac9ba7f",
   "metadata": {},
   "outputs": [
    {
     "data": {
      "text/plain": [
       "0"
      ]
     },
     "execution_count": 79,
     "metadata": {},
     "output_type": "execute_result"
    }
   ],
   "source": [
    "dataset[\"length\"].isnull().sum()"
   ]
  },
  {
   "cell_type": "code",
   "execution_count": 80,
   "id": "417dae88-ea60-4ca8-93ec-3d989f83c52b",
   "metadata": {},
   "outputs": [
    {
     "data": {
      "text/plain": [
       "length\n",
       "157.3    15\n",
       "188.8    11\n",
       "171.7     7\n",
       "186.7     7\n",
       "166.3     7\n",
       "         ..\n",
       "165.6     1\n",
       "187.5     1\n",
       "180.3     1\n",
       "208.1     1\n",
       "199.2     1\n",
       "Name: count, Length: 75, dtype: int64"
      ]
     },
     "execution_count": 80,
     "metadata": {},
     "output_type": "execute_result"
    }
   ],
   "source": [
    "dataset[\"length\"].value_counts()"
   ]
  },
  {
   "cell_type": "markdown",
   "id": "f52ccbba-b204-47ab-8662-1f759e85300d",
   "metadata": {},
   "source": [
    "# 12) width"
   ]
  },
  {
   "cell_type": "code",
   "execution_count": 83,
   "id": "bfaad565-dc8a-4a32-a2e2-ad394e1ed23f",
   "metadata": {},
   "outputs": [
    {
     "data": {
      "text/plain": [
       "0"
      ]
     },
     "execution_count": 83,
     "metadata": {},
     "output_type": "execute_result"
    }
   ],
   "source": [
    "dataset[\"width\"].isnull().sum()"
   ]
  },
  {
   "cell_type": "code",
   "execution_count": 84,
   "id": "e29e6dc9-c9bd-4d0e-91f5-8a5046b37a02",
   "metadata": {},
   "outputs": [
    {
     "data": {
      "text/plain": [
       "width\n",
       "63.8    24\n",
       "66.5    23\n",
       "65.4    15\n",
       "63.6    11\n",
       "64.4    10\n",
       "68.4    10\n",
       "64.0     9\n",
       "65.5     8\n",
       "65.2     7\n",
       "64.2     6\n",
       "66.3     6\n",
       "65.6     6\n",
       "67.2     6\n",
       "67.9     5\n",
       "66.9     5\n",
       "65.7     4\n",
       "68.9     4\n",
       "64.8     4\n",
       "63.9     3\n",
       "70.3     3\n",
       "71.7     3\n",
       "71.4     3\n",
       "65.0     3\n",
       "68.3     2\n",
       "67.7     2\n",
       "64.1     2\n",
       "66.1     2\n",
       "69.6     2\n",
       "64.6     2\n",
       "72.0     1\n",
       "68.0     1\n",
       "70.5     1\n",
       "61.8     1\n",
       "66.0     1\n",
       "62.5     1\n",
       "70.6     1\n",
       "72.3     1\n",
       "66.6     1\n",
       "63.4     1\n",
       "60.3     1\n",
       "70.9     1\n",
       "66.4     1\n",
       "66.2     1\n",
       "68.8     1\n",
       "Name: count, dtype: int64"
      ]
     },
     "execution_count": 84,
     "metadata": {},
     "output_type": "execute_result"
    }
   ],
   "source": [
    "dataset[\"width\"].value_counts()"
   ]
  },
  {
   "cell_type": "markdown",
   "id": "2e661938-6e46-40da-b740-ffa65c1ee08c",
   "metadata": {},
   "source": [
    "# 13) height"
   ]
  },
  {
   "cell_type": "code",
   "execution_count": 85,
   "id": "6daee7eb-bbcb-4dd3-b25b-8954ab310914",
   "metadata": {},
   "outputs": [
    {
     "data": {
      "text/plain": [
       "0"
      ]
     },
     "execution_count": 85,
     "metadata": {},
     "output_type": "execute_result"
    }
   ],
   "source": [
    "dataset[\"height\"].isnull().sum()"
   ]
  },
  {
   "cell_type": "code",
   "execution_count": 86,
   "id": "afe2dc76-4c0f-4dfe-8d08-c334c3de2346",
   "metadata": {},
   "outputs": [
    {
     "data": {
      "text/plain": [
       "height\n",
       "50.8    14\n",
       "52.0    12\n",
       "55.7    12\n",
       "54.1    10\n",
       "54.5    10\n",
       "55.5     9\n",
       "56.7     8\n",
       "54.3     8\n",
       "52.6     7\n",
       "56.1     7\n",
       "51.6     7\n",
       "53.0     6\n",
       "52.8     6\n",
       "54.9     6\n",
       "50.2     6\n",
       "53.7     5\n",
       "55.1     5\n",
       "50.6     5\n",
       "49.6     4\n",
       "58.7     4\n",
       "53.3     4\n",
       "52.5     3\n",
       "59.1     3\n",
       "56.2     3\n",
       "49.7     3\n",
       "57.5     3\n",
       "53.5     3\n",
       "54.4     2\n",
       "53.9     2\n",
       "56.3     2\n",
       "50.5     2\n",
       "59.8     2\n",
       "56.5     2\n",
       "54.7     2\n",
       "48.8     2\n",
       "49.4     2\n",
       "51.4     2\n",
       "51.0     1\n",
       "54.8     1\n",
       "55.4     1\n",
       "56.0     1\n",
       "55.2     1\n",
       "53.2     1\n",
       "47.8     1\n",
       "55.9     1\n",
       "52.4     1\n",
       "55.6     1\n",
       "53.1     1\n",
       "58.3     1\n",
       "Name: count, dtype: int64"
      ]
     },
     "execution_count": 86,
     "metadata": {},
     "output_type": "execute_result"
    }
   ],
   "source": [
    "dataset[\"height\"].value_counts()"
   ]
  },
  {
   "cell_type": "markdown",
   "id": "74e37e3f-3d00-44ec-bace-76340d90cb4d",
   "metadata": {},
   "source": [
    "## 14) curb-weight"
   ]
  },
  {
   "cell_type": "code",
   "execution_count": 90,
   "id": "6427ea13-ba02-4edc-80e9-2a78100d02d1",
   "metadata": {},
   "outputs": [
    {
     "data": {
      "text/plain": [
       "0"
      ]
     },
     "execution_count": 90,
     "metadata": {},
     "output_type": "execute_result"
    }
   ],
   "source": [
    "dataset[\"curb-weight\"].isnull().sum()"
   ]
  },
  {
   "cell_type": "code",
   "execution_count": 91,
   "id": "186b44a6-c24d-4209-8db6-63febf70180e",
   "metadata": {},
   "outputs": [
    {
     "data": {
      "text/plain": [
       "curb-weight\n",
       "2385    4\n",
       "1918    3\n",
       "2275    3\n",
       "1989    3\n",
       "2410    2\n",
       "       ..\n",
       "2370    1\n",
       "2328    1\n",
       "2833    1\n",
       "2921    1\n",
       "3062    1\n",
       "Name: count, Length: 171, dtype: int64"
      ]
     },
     "execution_count": 91,
     "metadata": {},
     "output_type": "execute_result"
    }
   ],
   "source": [
    "dataset[\"curb-weight\"].value_counts()"
   ]
  },
  {
   "cell_type": "markdown",
   "id": "098b2f9e-d570-49a1-ba02-65900048cb64",
   "metadata": {},
   "source": [
    "## 15) engine-type"
   ]
  },
  {
   "cell_type": "code",
   "execution_count": 92,
   "id": "4a1e3b18-06cf-4ce6-bbb9-0434b6d71d7b",
   "metadata": {},
   "outputs": [
    {
     "data": {
      "text/plain": [
       "0"
      ]
     },
     "execution_count": 92,
     "metadata": {},
     "output_type": "execute_result"
    }
   ],
   "source": [
    "dataset[\"engine-type\"].isnull().sum()"
   ]
  },
  {
   "cell_type": "code",
   "execution_count": 93,
   "id": "772e3e63-065b-40d6-8ed5-666a9e09ccc5",
   "metadata": {},
   "outputs": [
    {
     "data": {
      "text/plain": [
       "engine-type\n",
       "ohc      148\n",
       "ohcf      15\n",
       "ohcv      13\n",
       "dohc      12\n",
       "l         12\n",
       "rotor      4\n",
       "dohcv      1\n",
       "Name: count, dtype: int64"
      ]
     },
     "execution_count": 93,
     "metadata": {},
     "output_type": "execute_result"
    }
   ],
   "source": [
    "dataset[\"engine-type\"].value_counts()"
   ]
  },
  {
   "cell_type": "markdown",
   "id": "4ccc7098-9178-476b-9f5e-5ea72c1f3ac5",
   "metadata": {},
   "source": [
    "## 16) num-of-cylinders"
   ]
  },
  {
   "cell_type": "code",
   "execution_count": 99,
   "id": "2a3aeea6-1c35-40ae-8321-7865b3dafed6",
   "metadata": {},
   "outputs": [
    {
     "data": {
      "text/plain": [
       "0"
      ]
     },
     "execution_count": 99,
     "metadata": {},
     "output_type": "execute_result"
    }
   ],
   "source": [
    "dataset[\"num-of-cylinders\"].isnull().sum()"
   ]
  },
  {
   "cell_type": "code",
   "execution_count": 100,
   "id": "a9410458-d9a2-4126-9241-9ed4378ba671",
   "metadata": {},
   "outputs": [
    {
     "data": {
      "text/plain": [
       "num-of-cylinders\n",
       "four      159\n",
       "six        24\n",
       "five       11\n",
       "eight       5\n",
       "two         4\n",
       "three       1\n",
       "twelve      1\n",
       "Name: count, dtype: int64"
      ]
     },
     "execution_count": 100,
     "metadata": {},
     "output_type": "execute_result"
    }
   ],
   "source": [
    "dataset[\"num-of-cylinders\"].value_counts()"
   ]
  },
  {
   "cell_type": "markdown",
   "id": "06042991-413a-4183-a73b-3f28b939231e",
   "metadata": {},
   "source": [
    "## 17) engine-size"
   ]
  },
  {
   "cell_type": "code",
   "execution_count": 101,
   "id": "13fd66be-291c-4b4c-9fa3-51e296b96138",
   "metadata": {},
   "outputs": [
    {
     "data": {
      "text/plain": [
       "0"
      ]
     },
     "execution_count": 101,
     "metadata": {},
     "output_type": "execute_result"
    }
   ],
   "source": [
    "dataset[\"engine-size\"].isnull().sum()"
   ]
  },
  {
   "cell_type": "code",
   "execution_count": 102,
   "id": "56a83469-6b79-4500-a701-2f4f9f431653",
   "metadata": {},
   "outputs": [
    {
     "data": {
      "text/plain": [
       "engine-size\n",
       "122    15\n",
       "92     15\n",
       "97     14\n",
       "98     14\n",
       "108    13\n",
       "90     12\n",
       "110    12\n",
       "109     8\n",
       "120     7\n",
       "141     7\n",
       "152     6\n",
       "181     6\n",
       "146     6\n",
       "121     6\n",
       "156     5\n",
       "136     5\n",
       "91      5\n",
       "183     4\n",
       "130     4\n",
       "171     3\n",
       "70      3\n",
       "194     3\n",
       "209     3\n",
       "164     3\n",
       "258     2\n",
       "140     2\n",
       "134     2\n",
       "234     2\n",
       "132     2\n",
       "131     2\n",
       "173     1\n",
       "203     1\n",
       "161     1\n",
       "80      1\n",
       "151     1\n",
       "103     1\n",
       "304     1\n",
       "308     1\n",
       "326     1\n",
       "119     1\n",
       "111     1\n",
       "79      1\n",
       "61      1\n",
       "145     1\n",
       "Name: count, dtype: int64"
      ]
     },
     "execution_count": 102,
     "metadata": {},
     "output_type": "execute_result"
    }
   ],
   "source": [
    "dataset[\"engine-size\"].value_counts()"
   ]
  },
  {
   "cell_type": "markdown",
   "id": "8ea06887-4ab8-4c8b-9ebe-588297d26f73",
   "metadata": {},
   "source": [
    "## 18) fuel-system"
   ]
  },
  {
   "cell_type": "code",
   "execution_count": 104,
   "id": "37991c94-6cf6-4885-bb93-2cebf9c610c3",
   "metadata": {},
   "outputs": [
    {
     "data": {
      "text/plain": [
       "0"
      ]
     },
     "execution_count": 104,
     "metadata": {},
     "output_type": "execute_result"
    }
   ],
   "source": [
    "dataset[\"fuel-system\"].isnull().sum()"
   ]
  },
  {
   "cell_type": "code",
   "execution_count": 105,
   "id": "9cb56966-43dd-4ef7-9536-abc440a9f463",
   "metadata": {},
   "outputs": [
    {
     "data": {
      "text/plain": [
       "fuel-system\n",
       "mpfi    94\n",
       "2bbl    66\n",
       "idi     20\n",
       "1bbl    11\n",
       "spdi     9\n",
       "4bbl     3\n",
       "mfi      1\n",
       "spfi     1\n",
       "Name: count, dtype: int64"
      ]
     },
     "execution_count": 105,
     "metadata": {},
     "output_type": "execute_result"
    }
   ],
   "source": [
    "dataset[\"fuel-system\"].value_counts()"
   ]
  },
  {
   "cell_type": "markdown",
   "id": "d6d79fa8-79f6-42e9-bb8e-49923708b992",
   "metadata": {},
   "source": [
    "## 19) bore"
   ]
  },
  {
   "cell_type": "code",
   "execution_count": 110,
   "id": "83b43b95-7e16-4807-8563-f9a17f117549",
   "metadata": {},
   "outputs": [
    {
     "data": {
      "text/plain": [
       "4"
      ]
     },
     "execution_count": 110,
     "metadata": {},
     "output_type": "execute_result"
    }
   ],
   "source": [
    "dataset[\"bore\"].isnull().sum()"
   ]
  },
  {
   "cell_type": "code",
   "execution_count": 108,
   "id": "192d8b2d-59c6-4db0-a7fe-f325953ef0d3",
   "metadata": {},
   "outputs": [
    {
     "data": {
      "text/plain": [
       "bore\n",
       "3.62    23\n",
       "3.19    20\n",
       "3.15    15\n",
       "3.03    12\n",
       "2.97    12\n",
       "3.46     9\n",
       "3.78     8\n",
       "3.31     8\n",
       "3.43     8\n",
       "3.27     7\n",
       "2.91     7\n",
       "3.54     6\n",
       "3.05     6\n",
       "3.58     6\n",
       "3.39     6\n",
       "3.01     5\n",
       "3.7      5\n",
       "3.35     4\n",
       "3.17     3\n",
       "3.59     3\n",
       "3.74     3\n",
       "3.33     2\n",
       "3.24     2\n",
       "3.94     2\n",
       "3.47     2\n",
       "3.8      2\n",
       "3.63     2\n",
       "3.5      2\n",
       "3.13     2\n",
       "2.68     1\n",
       "2.99     1\n",
       "3.08     1\n",
       "3.61     1\n",
       "2.92     1\n",
       "3.6      1\n",
       "2.54     1\n",
       "3.34     1\n",
       "3.76     1\n",
       "Name: count, dtype: int64"
      ]
     },
     "execution_count": 108,
     "metadata": {},
     "output_type": "execute_result"
    }
   ],
   "source": [
    "dataset[\"bore\"].value_counts()"
   ]
  },
  {
   "cell_type": "code",
   "execution_count": 114,
   "id": "d71e3c3d-7e23-4529-bb68-45dc529daa60",
   "metadata": {},
   "outputs": [
    {
     "data": {
      "text/plain": [
       "dtype('O')"
      ]
     },
     "execution_count": 114,
     "metadata": {},
     "output_type": "execute_result"
    }
   ],
   "source": [
    "dataset[\"bore\"].dtype"
   ]
  },
  {
   "cell_type": "code",
   "execution_count": 116,
   "id": "13d0594e-db28-4297-9d00-4e326deef8c1",
   "metadata": {},
   "outputs": [],
   "source": [
    "dataset[\"bore\"]=dataset[\"bore\"].astype(float)"
   ]
  },
  {
   "cell_type": "code",
   "execution_count": 117,
   "id": "11905a10-e159-4c3e-b5a5-727cd03cc33a",
   "metadata": {},
   "outputs": [
    {
     "data": {
      "text/plain": [
       "dtype('float64')"
      ]
     },
     "execution_count": 117,
     "metadata": {},
     "output_type": "execute_result"
    }
   ],
   "source": [
    "dataset[\"bore\"].dtype"
   ]
  },
  {
   "cell_type": "code",
   "execution_count": 118,
   "id": "46be42bd-74e4-4c39-bb5b-c3a51a38d9c0",
   "metadata": {},
   "outputs": [],
   "source": [
    "dataset[\"bore\"].fillna(dataset[\"bore\"].median(),inplace=True)"
   ]
  },
  {
   "cell_type": "code",
   "execution_count": 119,
   "id": "c3153a27-9740-4f74-b4c9-55c21a9e04cb",
   "metadata": {},
   "outputs": [
    {
     "data": {
      "text/plain": [
       "0"
      ]
     },
     "execution_count": 119,
     "metadata": {},
     "output_type": "execute_result"
    }
   ],
   "source": [
    "dataset[\"bore\"].isnull().sum()"
   ]
  },
  {
   "cell_type": "markdown",
   "id": "594b461c-9353-4841-ac79-adb8d607ab2a",
   "metadata": {},
   "source": [
    "## 20) stroke"
   ]
  },
  {
   "cell_type": "code",
   "execution_count": 121,
   "id": "057f7737-85be-484a-8475-7f02d1f7ff91",
   "metadata": {},
   "outputs": [
    {
     "data": {
      "text/plain": [
       "4"
      ]
     },
     "execution_count": 121,
     "metadata": {},
     "output_type": "execute_result"
    }
   ],
   "source": [
    "dataset[\"stroke\"].isnull().sum()"
   ]
  },
  {
   "cell_type": "code",
   "execution_count": 122,
   "id": "d6135fc4-a2a9-4b5e-9217-972b5f15093e",
   "metadata": {},
   "outputs": [
    {
     "data": {
      "text/plain": [
       "stroke\n",
       "3.4     20\n",
       "3.03    14\n",
       "3.23    14\n",
       "3.15    14\n",
       "3.39    13\n",
       "2.64    11\n",
       "3.29     9\n",
       "3.35     9\n",
       "3.46     8\n",
       "3.07     6\n",
       "3.58     6\n",
       "3.5      6\n",
       "3.27     6\n",
       "3.41     6\n",
       "3.11     6\n",
       "3.19     6\n",
       "3.52     5\n",
       "3.64     5\n",
       "3.47     4\n",
       "3.86     4\n",
       "3.54     4\n",
       "3.9      3\n",
       "2.9      3\n",
       "3.08     2\n",
       "2.19     2\n",
       "2.68     2\n",
       "3.1      2\n",
       "4.17     2\n",
       "2.8      2\n",
       "3.12     1\n",
       "3.21     1\n",
       "2.07     1\n",
       "2.36     1\n",
       "3.16     1\n",
       "2.76     1\n",
       "2.87     1\n",
       "Name: count, dtype: int64"
      ]
     },
     "execution_count": 122,
     "metadata": {},
     "output_type": "execute_result"
    }
   ],
   "source": [
    "dataset[\"stroke\"].value_counts()"
   ]
  },
  {
   "cell_type": "code",
   "execution_count": 125,
   "id": "b5ea31fc-82f7-4ac6-b76b-2904b53ec0bd",
   "metadata": {},
   "outputs": [],
   "source": [
    "dataset[\"stroke\"]=dataset[\"stroke\"].astype(float)"
   ]
  },
  {
   "cell_type": "code",
   "execution_count": 126,
   "id": "be881245-2c0f-4578-bbd7-5323c6716eef",
   "metadata": {},
   "outputs": [],
   "source": [
    "dataset[\"stroke\"].fillna(dataset[\"stroke\"].median(),inplace=True)"
   ]
  },
  {
   "cell_type": "code",
   "execution_count": 127,
   "id": "0ef616f0-4b39-45db-abb2-d9671224ad21",
   "metadata": {},
   "outputs": [
    {
     "data": {
      "text/plain": [
       "0"
      ]
     },
     "execution_count": 127,
     "metadata": {},
     "output_type": "execute_result"
    }
   ],
   "source": [
    "dataset[\"stroke\"].isnull().sum()"
   ]
  },
  {
   "cell_type": "markdown",
   "id": "9871bcbd-548d-44aa-8cf7-8b8e2f8a0273",
   "metadata": {},
   "source": [
    "## 21) compression-ratio"
   ]
  },
  {
   "cell_type": "code",
   "execution_count": 129,
   "id": "57cbe233-2bcc-4882-8b3f-39ef4b6840d5",
   "metadata": {},
   "outputs": [
    {
     "data": {
      "text/plain": [
       "0"
      ]
     },
     "execution_count": 129,
     "metadata": {},
     "output_type": "execute_result"
    }
   ],
   "source": [
    "dataset[\"compression-ratio\"].isnull().sum()"
   ]
  },
  {
   "cell_type": "code",
   "execution_count": 132,
   "id": "b2872df1-9ea7-48f3-b8fd-d1ce5206021c",
   "metadata": {},
   "outputs": [
    {
     "data": {
      "text/plain": [
       "dtype('float64')"
      ]
     },
     "execution_count": 132,
     "metadata": {},
     "output_type": "execute_result"
    }
   ],
   "source": [
    "dataset[\"compression-ratio\"].dtype"
   ]
  },
  {
   "cell_type": "code",
   "execution_count": 131,
   "id": "8f43252f-dfac-4fc3-96a3-71ddfc878154",
   "metadata": {},
   "outputs": [
    {
     "data": {
      "text/plain": [
       "compression-ratio\n",
       "9.00     46\n",
       "9.40     26\n",
       "8.50     14\n",
       "9.50     13\n",
       "9.30     11\n",
       "8.70      9\n",
       "8.00      8\n",
       "9.20      8\n",
       "7.00      7\n",
       "8.60      5\n",
       "21.00     5\n",
       "8.40      5\n",
       "7.50      5\n",
       "23.00     5\n",
       "9.60      5\n",
       "21.50     4\n",
       "7.60      4\n",
       "10.00     3\n",
       "22.50     3\n",
       "8.30      3\n",
       "8.80      3\n",
       "7.70      2\n",
       "8.10      2\n",
       "9.10      1\n",
       "9.31      1\n",
       "7.80      1\n",
       "9.41      1\n",
       "21.90     1\n",
       "22.00     1\n",
       "22.70     1\n",
       "10.10     1\n",
       "11.50     1\n",
       "Name: count, dtype: int64"
      ]
     },
     "execution_count": 131,
     "metadata": {},
     "output_type": "execute_result"
    }
   ],
   "source": [
    "dataset[\"compression-ratio\"].value_counts()"
   ]
  },
  {
   "cell_type": "markdown",
   "id": "ac5764fa-8f1b-4b21-ba96-f5d69f1f81b9",
   "metadata": {},
   "source": [
    "## 22) horsepower"
   ]
  },
  {
   "cell_type": "code",
   "execution_count": 133,
   "id": "132cb9dd-4787-43cc-883c-097c7d774967",
   "metadata": {},
   "outputs": [
    {
     "data": {
      "text/plain": [
       "2"
      ]
     },
     "execution_count": 133,
     "metadata": {},
     "output_type": "execute_result"
    }
   ],
   "source": [
    "dataset[\"horsepower\"].isnull().sum()"
   ]
  },
  {
   "cell_type": "code",
   "execution_count": 134,
   "id": "9dfae9c4-ee09-442d-aa77-6088933e2ba7",
   "metadata": {},
   "outputs": [
    {
     "data": {
      "text/plain": [
       "dtype('O')"
      ]
     },
     "execution_count": 134,
     "metadata": {},
     "output_type": "execute_result"
    }
   ],
   "source": [
    "dataset[\"horsepower\"].dtype"
   ]
  },
  {
   "cell_type": "code",
   "execution_count": 137,
   "id": "b2dda76b-1f70-4f5e-bc11-82fb6000fedf",
   "metadata": {},
   "outputs": [],
   "source": [
    "dataset[\"horsepower\"]=dataset[\"horsepower\"].astype(float)"
   ]
  },
  {
   "cell_type": "code",
   "execution_count": 141,
   "id": "b467c211-b862-41f2-9351-24336084f336",
   "metadata": {},
   "outputs": [],
   "source": [
    "dataset[\"horsepower\"].fillna(dataset[\"horsepower\"].median(),inplace=True)"
   ]
  },
  {
   "cell_type": "code",
   "execution_count": 142,
   "id": "af5374d0-6dba-4d8b-b7d1-7f33c6ee9158",
   "metadata": {},
   "outputs": [
    {
     "data": {
      "text/plain": [
       "horsepower\n",
       "68.0     19\n",
       "70.0     11\n",
       "69.0     10\n",
       "116.0     9\n",
       "95.0      9\n",
       "110.0     8\n",
       "114.0     6\n",
       "160.0     6\n",
       "101.0     6\n",
       "62.0      6\n",
       "88.0      6\n",
       "145.0     5\n",
       "76.0      5\n",
       "97.0      5\n",
       "82.0      5\n",
       "84.0      5\n",
       "102.0     5\n",
       "92.0      4\n",
       "111.0     4\n",
       "123.0     4\n",
       "86.0      4\n",
       "207.0     3\n",
       "182.0     3\n",
       "90.0      3\n",
       "121.0     3\n",
       "152.0     3\n",
       "85.0      3\n",
       "73.0      3\n",
       "161.0     2\n",
       "94.0      2\n",
       "56.0      2\n",
       "112.0     2\n",
       "184.0     2\n",
       "155.0     2\n",
       "156.0     2\n",
       "52.0      2\n",
       "100.0     2\n",
       "162.0     2\n",
       "176.0     2\n",
       "140.0     1\n",
       "115.0     1\n",
       "134.0     1\n",
       "78.0      1\n",
       "48.0      1\n",
       "288.0     1\n",
       "143.0     1\n",
       "142.0     1\n",
       "200.0     1\n",
       "58.0      1\n",
       "55.0      1\n",
       "60.0      1\n",
       "175.0     1\n",
       "154.0     1\n",
       "72.0      1\n",
       "120.0     1\n",
       "64.0      1\n",
       "135.0     1\n",
       "262.0     1\n",
       "106.0     1\n",
       "Name: count, dtype: int64"
      ]
     },
     "execution_count": 142,
     "metadata": {},
     "output_type": "execute_result"
    }
   ],
   "source": [
    "dataset[\"horsepower\"].value_counts()"
   ]
  },
  {
   "cell_type": "code",
   "execution_count": 143,
   "id": "a027bb0e-a764-4707-8610-8a1b6c7e7923",
   "metadata": {},
   "outputs": [
    {
     "data": {
      "text/plain": [
       "0"
      ]
     },
     "execution_count": 143,
     "metadata": {},
     "output_type": "execute_result"
    }
   ],
   "source": [
    "dataset[\"horsepower\"].isnull().sum()"
   ]
  },
  {
   "cell_type": "markdown",
   "id": "abe4b2b6-6848-474e-bd0d-8e7aa95d1889",
   "metadata": {},
   "source": [
    "## 23) peak-rpm"
   ]
  },
  {
   "cell_type": "code",
   "execution_count": 145,
   "id": "d467d709-5f2f-4b48-86e1-b74b59beca7e",
   "metadata": {},
   "outputs": [
    {
     "data": {
      "text/plain": [
       "2"
      ]
     },
     "execution_count": 145,
     "metadata": {},
     "output_type": "execute_result"
    }
   ],
   "source": [
    "dataset[\"peak-rpm\"].isnull().sum()"
   ]
  },
  {
   "cell_type": "code",
   "execution_count": 146,
   "id": "8b50d136-57ed-48b3-90d5-32c5d475246a",
   "metadata": {},
   "outputs": [
    {
     "data": {
      "text/plain": [
       "peak-rpm\n",
       "5500    37\n",
       "4800    36\n",
       "5000    27\n",
       "5200    23\n",
       "5400    13\n",
       "6000     9\n",
       "5800     7\n",
       "5250     7\n",
       "4500     7\n",
       "4150     5\n",
       "4200     5\n",
       "4350     4\n",
       "4750     4\n",
       "5100     3\n",
       "5900     3\n",
       "4250     3\n",
       "4400     3\n",
       "6600     2\n",
       "4650     1\n",
       "5600     1\n",
       "5750     1\n",
       "4900     1\n",
       "5300     1\n",
       "Name: count, dtype: int64"
      ]
     },
     "execution_count": 146,
     "metadata": {},
     "output_type": "execute_result"
    }
   ],
   "source": [
    "dataset[\"peak-rpm\"].value_counts()"
   ]
  },
  {
   "cell_type": "code",
   "execution_count": 148,
   "id": "d35ac4ed-5a12-4735-9d0e-8dcdae3c1730",
   "metadata": {},
   "outputs": [],
   "source": [
    "dataset[\"peak-rpm\"]=dataset[\"peak-rpm\"].astype(float)"
   ]
  },
  {
   "cell_type": "code",
   "execution_count": 150,
   "id": "8ee1db87-fcaa-4143-b392-82ea5c13d3b8",
   "metadata": {},
   "outputs": [],
   "source": [
    "dataset[\"peak-rpm\"].fillna(dataset[\"peak-rpm\"].median(),inplace=True)"
   ]
  },
  {
   "cell_type": "code",
   "execution_count": 152,
   "id": "a574c0ee-4212-4721-a90e-cb2a961b1cbd",
   "metadata": {},
   "outputs": [
    {
     "data": {
      "text/plain": [
       "0"
      ]
     },
     "execution_count": 152,
     "metadata": {},
     "output_type": "execute_result"
    }
   ],
   "source": [
    "dataset[\"peak-rpm\"].isnull().sum()"
   ]
  },
  {
   "cell_type": "markdown",
   "id": "b4a8c1d8-cca9-4205-aa82-d9c616d3a343",
   "metadata": {},
   "source": [
    "## 24) city-mpg"
   ]
  },
  {
   "cell_type": "code",
   "execution_count": 153,
   "id": "37a74ef4-83e2-4390-b044-7d169d26f23d",
   "metadata": {},
   "outputs": [
    {
     "data": {
      "text/plain": [
       "0"
      ]
     },
     "execution_count": 153,
     "metadata": {},
     "output_type": "execute_result"
    }
   ],
   "source": [
    "dataset[\"city-mpg\"].isnull().sum()"
   ]
  },
  {
   "cell_type": "code",
   "execution_count": null,
   "id": "8a05d9bf-10d9-40fa-b2c7-da660552f9c0",
   "metadata": {},
   "outputs": [],
   "source": [
    "dataset[\"city-mpg\"].value_counts()"
   ]
  },
  {
   "cell_type": "markdown",
   "id": "acb57050-ca7a-4cc0-a83f-58803f4f9d07",
   "metadata": {},
   "source": [
    "## 25) highway-mpg"
   ]
  },
  {
   "cell_type": "code",
   "execution_count": 156,
   "id": "a10167e4-4a17-4282-b101-94078f91d503",
   "metadata": {},
   "outputs": [
    {
     "data": {
      "text/plain": [
       "0"
      ]
     },
     "execution_count": 156,
     "metadata": {},
     "output_type": "execute_result"
    }
   ],
   "source": [
    "dataset[\"highway-mpg\"].isnull().sum()"
   ]
  },
  {
   "cell_type": "code",
   "execution_count": 157,
   "id": "edf3cf1b-9417-4423-a790-74d0474e2769",
   "metadata": {},
   "outputs": [
    {
     "data": {
      "text/plain": [
       "highway-mpg\n",
       "25    19\n",
       "38    17\n",
       "24    17\n",
       "30    16\n",
       "32    16\n",
       "34    14\n",
       "37    13\n",
       "28    13\n",
       "29    10\n",
       "33     9\n",
       "22     8\n",
       "31     8\n",
       "23     7\n",
       "27     5\n",
       "43     4\n",
       "42     3\n",
       "26     3\n",
       "41     3\n",
       "19     2\n",
       "39     2\n",
       "18     2\n",
       "16     2\n",
       "20     2\n",
       "36     2\n",
       "47     2\n",
       "46     2\n",
       "54     1\n",
       "17     1\n",
       "53     1\n",
       "50     1\n",
       "Name: count, dtype: int64"
      ]
     },
     "execution_count": 157,
     "metadata": {},
     "output_type": "execute_result"
    }
   ],
   "source": [
    "dataset[\"highway-mpg\"].value_counts()"
   ]
  },
  {
   "cell_type": "markdown",
   "id": "c8a74d5d-d428-4430-88e8-e5146436a7c3",
   "metadata": {},
   "source": [
    "## 26) price"
   ]
  },
  {
   "cell_type": "code",
   "execution_count": 159,
   "id": "38ee2bd4-f38f-48e7-aac0-7ad7181686b7",
   "metadata": {},
   "outputs": [
    {
     "data": {
      "text/plain": [
       "4"
      ]
     },
     "execution_count": 159,
     "metadata": {},
     "output_type": "execute_result"
    }
   ],
   "source": [
    "dataset[\"price\"].isnull().sum()"
   ]
  },
  {
   "cell_type": "code",
   "execution_count": 160,
   "id": "6ea13642-853f-4484-8884-7156d3b5812a",
   "metadata": {},
   "outputs": [
    {
     "data": {
      "text/plain": [
       "price\n",
       "8921     2\n",
       "18150    2\n",
       "8845     2\n",
       "8495     2\n",
       "7609     2\n",
       "        ..\n",
       "45400    1\n",
       "16503    1\n",
       "5389     1\n",
       "6189     1\n",
       "22625    1\n",
       "Name: count, Length: 186, dtype: int64"
      ]
     },
     "execution_count": 160,
     "metadata": {},
     "output_type": "execute_result"
    }
   ],
   "source": [
    "dataset[\"price\"].value_counts()"
   ]
  },
  {
   "cell_type": "code",
   "execution_count": 162,
   "id": "8ad3c10a-e69d-48ee-bed5-f8c832b10d18",
   "metadata": {},
   "outputs": [
    {
     "data": {
      "text/plain": [
       "dtype('O')"
      ]
     },
     "execution_count": 162,
     "metadata": {},
     "output_type": "execute_result"
    }
   ],
   "source": [
    "dataset[\"price\"].dtype"
   ]
  },
  {
   "cell_type": "code",
   "execution_count": 167,
   "id": "a4fc36a3-7a17-43cd-8cd2-dc102ad550b7",
   "metadata": {},
   "outputs": [],
   "source": [
    "dataset[\"price\"]=dataset[\"price\"].astype(float)"
   ]
  },
  {
   "cell_type": "code",
   "execution_count": 170,
   "id": "e1b28c45-b271-4931-ba69-cdbf5ceac134",
   "metadata": {},
   "outputs": [],
   "source": [
    "dataset[\"price\"].fillna(dataset[\"price\"].median(),inplace=True)"
   ]
  },
  {
   "cell_type": "code",
   "execution_count": 171,
   "id": "cd282d90-40a2-4b26-9b31-75a36af1a4e1",
   "metadata": {},
   "outputs": [
    {
     "data": {
      "text/plain": [
       "0"
      ]
     },
     "execution_count": 171,
     "metadata": {},
     "output_type": "execute_result"
    }
   ],
   "source": [
    "dataset[\"price\"].isnull().sum()"
   ]
  },
  {
   "cell_type": "code",
   "execution_count": 172,
   "id": "788b6aec-916b-4067-909c-9dd9eadb8d97",
   "metadata": {},
   "outputs": [
    {
     "data": {
      "text/plain": [
       "price\n",
       "10295.0    5\n",
       "8921.0     2\n",
       "18150.0    2\n",
       "8845.0     2\n",
       "8495.0     2\n",
       "          ..\n",
       "16503.0    1\n",
       "5389.0     1\n",
       "6189.0     1\n",
       "6669.0     1\n",
       "22625.0    1\n",
       "Name: count, Length: 186, dtype: int64"
      ]
     },
     "execution_count": 172,
     "metadata": {},
     "output_type": "execute_result"
    }
   ],
   "source": [
    "dataset[\"price\"].value_counts()"
   ]
  },
  {
   "cell_type": "markdown",
   "id": "c666bf7f-d106-40ce-b256-d9ff8e22903d",
   "metadata": {},
   "source": [
    "## Outliers Detection and Removed"
   ]
  },
  {
   "cell_type": "code",
   "execution_count": 173,
   "id": "5a65f93f-0e6a-4f78-af47-04f591469eb7",
   "metadata": {},
   "outputs": [
    {
     "data": {
      "image/png": "[encoded data removed]",
      "text/plain": [
       "<Figure size 800x700 with 1 Axes>"
      ]
     },
     "metadata": {},
     "output_type": "display_data"
    },
    {
     "name": "stdout",
     "output_type": "stream",
     "text": [
      "for column symboling\n",
      "IQR----- 2.0\n",
      "Upper Whisker--- 5.0\n",
      "Lower Whisker--- -3.0\n"
     ]
    },
    {
     "data": {
      "image/png": "[encoded data removed]",
      "text/plain": [
       "<Figure size 800x700 with 1 Axes>"
      ]
     },
     "metadata": {},
     "output_type": "display_data"
    },
    {
     "data": {
      "image/png": "[encoded data removed]",
      "text/plain": [
       "<Figure size 800x700 with 1 Axes>"
      ]
     },
     "metadata": {},
     "output_type": "display_data"
    },
    {
     "name": "stdout",
     "output_type": "stream",
     "text": [
      "for column normalized-losses\n",
      "IQR----- 36.0\n",
      "Upper Whisker--- 191.0\n",
      "Lower Whisker--- 47.0\n"
     ]
    },
    {
     "data": {
      "image/png": "[encoded data removed]",
      "text/plain": [
       "<Figure size 800x700 with 1 Axes>"
      ]
     },
     "metadata": {},
     "output_type": "display_data"
    },
    {
     "data": {
      "image/png": "[encoded data removed]",
      "text/plain": [
       "<Figure size 800x700 with 1 Axes>"
      ]
     },
     "metadata": {},
     "output_type": "display_data"
    },
    {
     "name": "stdout",
     "output_type": "stream",
     "text": [
      "for column wheel-base\n",
      "IQR----- 7.900000000000006\n",
      "Upper Whisker--- 114.25000000000001\n",
      "Lower Whisker--- 82.64999999999999\n"
     ]
    },
    {
     "data": {
      "image/png": "[encoded data removed]",
      "text/plain": [
       "<Figure size 800x700 with 1 Axes>"
      ]
     },
     "metadata": {},
     "output_type": "display_data"
    },
    {
     "data": {
      "image/png": "[encoded data removed]",
      "text/plain": [
       "<Figure size 800x700 with 1 Axes>"
      ]
     },
     "metadata": {},
     "output_type": "display_data"
    },
    {
     "name": "stdout",
     "output_type": "stream",
     "text": [
      "for column length\n",
      "IQR----- 16.799999999999983\n",
      "Upper Whisker--- 208.29999999999995\n",
      "Lower Whisker--- 141.10000000000002\n"
     ]
    },
    {
     "data": {
      "image/png": "[encoded data removed]",
      "text/plain": [
       "<Figure size 800x700 with 1 Axes>"
      ]
     },
     "metadata": {},
     "output_type": "display_data"
    },
    {
     "data": {
      "image/png": "[encoded data removed]",
      "text/plain": [
       "<Figure size 800x700 with 1 Axes>"
      ]
     },
     "metadata": {},
     "output_type": "display_data"
    },
    {
     "name": "stdout",
     "output_type": "stream",
     "text": [
      "for column width\n",
      "IQR----- 2.8000000000000114\n",
      "Upper Whisker--- 71.10000000000002\n",
      "Lower Whisker--- 59.89999999999998\n"
     ]
    },
    {
     "data": {
      "image/png": "[encoded data removed]",
      "text/plain": [
       "<Figure size 800x700 with 1 Axes>"
      ]
     },
     "metadata": {},
     "output_type": "display_data"
    },
    {
     "data": {
      "image/png": "[encoded data removed]",
      "text/plain": [
       "<Figure size 800x700 with 1 Axes>"
      ]
     },
     "metadata": {},
     "output_type": "display_data"
    },
    {
     "name": "stdout",
     "output_type": "stream",
     "text": [
      "for column height\n",
      "IQR----- 3.5\n",
      "Upper Whisker--- 60.75\n",
      "Lower Whisker--- 46.75\n"
     ]
    },
    {
     "data": {
      "image/png": "[encoded data removed]",
      "text/plain": [
       "<Figure size 800x700 with 1 Axes>"
      ]
     },
     "metadata": {},
     "output_type": "display_data"
    },
    {
     "data": {
      "image/png": "[encoded data removed]",
      "text/plain": [
       "<Figure size 800x700 with 1 Axes>"
      ]
     },
     "metadata": {},
     "output_type": "display_data"
    },
    {
     "name": "stdout",
     "output_type": "stream",
     "text": [
      "for column curb-weight\n",
      "IQR----- 790.0\n",
      "Upper Whisker--- 4120.0\n",
      "Lower Whisker--- 960.0\n"
     ]
    },
    {
     "data": {
      "image/png": "[encoded data removed]",
      "text/plain": [
       "<Figure size 800x700 with 1 Axes>"
      ]
     },
     "metadata": {},
     "output_type": "display_data"
    },
    {
     "data": {
      "image/png": "[encoded data removed]",
      "text/plain": [
       "<Figure size 800x700 with 1 Axes>"
      ]
     },
     "metadata": {},
     "output_type": "display_data"
    },
    {
     "name": "stdout",
     "output_type": "stream",
     "text": [
      "for column engine-size\n",
      "IQR----- 44.0\n",
      "Upper Whisker--- 207.0\n",
      "Lower Whisker--- 31.0\n"
     ]
    },
    {
     "data": {
      "image/png": "[encoded data removed]",
      "text/plain": [
       "<Figure size 800x700 with 1 Axes>"
      ]
     },
     "metadata": {},
     "output_type": "display_data"
    },
    {
     "data": {
      "image/png": "[encoded data removed]",
      "text/plain": [
       "<Figure size 800x700 with 1 Axes>"
      ]
     },
     "metadata": {},
     "output_type": "display_data"
    },
    {
     "name": "stdout",
     "output_type": "stream",
     "text": [
      "for column bore\n",
      "IQR----- 0.43000000000000016\n",
      "Upper Whisker--- 4.2250000000000005\n",
      "Lower Whisker--- 2.505\n"
     ]
    },
    {
     "data": {
      "image/png": "[encoded data removed]",
      "text/plain": [
       "<Figure size 800x700 with 1 Axes>"
      ]
     },
     "metadata": {},
     "output_type": "display_data"
    },
    {
     "data": {
      "image/png": "[encoded data removed]",
      "text/plain": [
       "<Figure size 800x700 with 1 Axes>"
      ]
     },
     "metadata": {},
     "output_type": "display_data"
    },
    {
     "name": "stdout",
     "output_type": "stream",
     "text": [
      "for column stroke\n",
      "IQR----- 0.30000000000000027\n",
      "Upper Whisker--- 3.8600000000000003\n",
      "Lower Whisker--- 2.6599999999999993\n"
     ]
    },
    {
     "data": {
      "image/png": "[encoded data removed]",
      "text/plain": [
       "<Figure size 800x700 with 1 Axes>"
      ]
     },
     "metadata": {},
     "output_type": "display_data"
    },
    {
     "data": {
      "image/png": "[encoded data removed]",
      "text/plain": [
       "<Figure size 800x700 with 1 Axes>"
      ]
     },
     "metadata": {},
     "output_type": "display_data"
    },
    {
     "name": "stdout",
     "output_type": "stream",
     "text": [
      "for column compression-ratio\n",
      "IQR----- 0.8000000000000007\n",
      "Upper Whisker--- 10.600000000000001\n",
      "Lower Whisker--- 7.399999999999999\n"
     ]
    },
    {
     "data": {
      "image/png": "[encoded data removed]",
      "text/plain": [
       "<Figure size 800x700 with 1 Axes>"
      ]
     },
     "metadata": {},
     "output_type": "display_data"
    },
    {
     "data": {
      "image/png": "[encoded data removed]",
      "text/plain": [
       "<Figure size 800x700 with 1 Axes>"
      ]
     },
     "metadata": {},
     "output_type": "display_data"
    },
    {
     "name": "stdout",
     "output_type": "stream",
     "text": [
      "for column horsepower\n",
      "IQR----- 46.0\n",
      "Upper Whisker--- 185.0\n",
      "Lower Whisker--- 1.0\n"
     ]
    },
    {
     "data": {
      "image/png": "[encoded data removed]",
      "text/plain": [
       "<Figure size 800x700 with 1 Axes>"
      ]
     },
     "metadata": {},
     "output_type": "display_data"
    },
    {
     "data": {
      "image/png": "[encoded data removed]",
      "text/plain": [
       "<Figure size 800x700 with 1 Axes>"
      ]
     },
     "metadata": {},
     "output_type": "display_data"
    },
    {
     "name": "stdout",
     "output_type": "stream",
     "text": [
      "for column peak-rpm\n",
      "IQR----- 700.0\n",
      "Upper Whisker--- 6550.0\n",
      "Lower Whisker--- 3750.0\n"
     ]
    },
    {
     "data": {
      "image/png": "[encoded data removed]",
      "text/plain": [
       "<Figure size 800x700 with 1 Axes>"
      ]
     },
     "metadata": {},
     "output_type": "display_data"
    },
    {
     "data": {
      "image/png": "[encoded data removed]",
      "text/plain": [
       "<Figure size 800x700 with 1 Axes>"
      ]
     },
     "metadata": {},
     "output_type": "display_data"
    },
    {
     "name": "stdout",
     "output_type": "stream",
     "text": [
      "for column city-mpg\n",
      "IQR----- 11.0\n",
      "Upper Whisker--- 46.5\n",
      "Lower Whisker--- 2.5\n"
     ]
    },
    {
     "data": {
      "image/png": "[encoded data removed]",
      "text/plain": [
       "<Figure size 800x700 with 1 Axes>"
      ]
     },
     "metadata": {},
     "output_type": "display_data"
    },
    {
     "data": {
      "image/png": "[encoded data removed]",
      "text/plain": [
       "<Figure size 800x700 with 1 Axes>"
      ]
     },
     "metadata": {},
     "output_type": "display_data"
    },
    {
     "name": "stdout",
     "output_type": "stream",
     "text": [
      "for column highway-mpg\n",
      "IQR----- 9.0\n",
      "Upper Whisker--- 47.5\n",
      "Lower Whisker--- 11.5\n"
     ]
    },
    {
     "data": {
      "image/png": "[encoded data removed]",
      "text/plain": [
       "<Figure size 800x700 with 1 Axes>"
      ]
     },
     "metadata": {},
     "output_type": "display_data"
    },
    {
     "data": {
      "image/png": "[encoded data removed]",
      "text/plain": [
       "<Figure size 800x700 with 1 Axes>"
      ]
     },
     "metadata": {},
     "output_type": "display_data"
    },
    {
     "name": "stdout",
     "output_type": "stream",
     "text": [
      "for column price\n",
      "IQR----- 8712.0\n",
      "Upper Whisker--- 29568.0\n",
      "Lower Whisker--- -5280.0\n"
     ]
    },
    {
     "data": {
      "image/png": "[encoded data removed]",
      "text/plain": [
       "<Figure size 800x700 with 1 Axes>"
      ]
     },
     "metadata": {},
     "output_type": "display_data"
    }
   ],
   "source": [
    "for  i in dataset.describe().columns:\n",
    "    plt.figure(figsize=(8,7))\n",
    "    plt.boxplot(dataset[i])\n",
    "    plt.title(i)\n",
    "    plt.show()\n",
    "\n",
    "    \n",
    "    q1=dataset[i].quantile(0.25)\n",
    "    q3=dataset[i].quantile(0.75)\n",
    "    iqr=q3-q1\n",
    "    uppr=q3+(1.5*iqr)\n",
    "    lower=q1-(1.5*iqr)\n",
    "    \n",
    "    print(\"for column\" ,i) \n",
    "    print(\"IQR-----\",iqr)\n",
    "    print(\"Upper Whisker---\",uppr)\n",
    "    print(\"Lower Whisker---\",lower)\n",
    "    \n",
    "    dataset.loc[dataset[i]<lower,i]=lower\n",
    "    dataset.loc[dataset[i]>uppr,i]=uppr\n",
    "    \n",
    "    plt.figure(figsize=(8,7))\n",
    "    plt.boxplot(dataset[i])\n",
    "    plt.title(i)\n",
    "    plt.show()"
   ]
  },
  {
   "cell_type": "code",
   "execution_count": 174,
   "id": "07581347-9485-4b92-b5d1-e79ebb8dcdad",
   "metadata": {},
   "outputs": [
    {
     "name": "stdout",
     "output_type": "stream",
     "text": [
      "<class 'pandas.core.frame.DataFrame'>\n",
      "RangeIndex: 205 entries, 0 to 204\n",
      "Data columns (total 26 columns):\n",
      " #   Column             Non-Null Count  Dtype  \n",
      "---  ------             --------------  -----  \n",
      " 0   symboling          205 non-null    int64  \n",
      " 1   normalized-losses  205 non-null    float64\n",
      " 2   make               205 non-null    object \n",
      " 3   fuel-type          205 non-null    object \n",
      " 4   aspiration         205 non-null    object \n",
      " 5   num-of-doors       205 non-null    object \n",
      " 6   body-style         205 non-null    object \n",
      " 7   drive-wheels       205 non-null    object \n",
      " 8   engine-location    205 non-null    object \n",
      " 9   wheel-base         205 non-null    float64\n",
      " 10  length             205 non-null    float64\n",
      " 11  width              205 non-null    float64\n",
      " 12  height             205 non-null    float64\n",
      " 13  curb-weight        205 non-null    int64  \n",
      " 14  engine-type        205 non-null    object \n",
      " 15  num-of-cylinders   205 non-null    object \n",
      " 16  engine-size        205 non-null    int64  \n",
      " 17  fuel-system        205 non-null    object \n",
      " 18  bore               205 non-null    float64\n",
      " 19  stroke             205 non-null    float64\n",
      " 20  compression-ratio  205 non-null    float64\n",
      " 21  horsepower         205 non-null    float64\n",
      " 22  peak-rpm           205 non-null    float64\n",
      " 23  city-mpg           205 non-null    float64\n",
      " 24  highway-mpg        205 non-null    float64\n",
      " 25  price              205 non-null    float64\n",
      "dtypes: float64(13), int64(3), object(10)\n",
      "memory usage: 41.8+ KB\n"
     ]
    }
   ],
   "source": [
    "dataset.info()"
   ]
  },
  {
   "cell_type": "markdown",
   "id": "5e4c0c24-7995-4784-93d4-8f5be4eca6c4",
   "metadata": {},
   "source": [
    "## Encoding "
   ]
  },
  {
   "cell_type": "code",
   "execution_count": 175,
   "id": "95e5c7f9-72ae-4430-ae31-657d496051f2",
   "metadata": {},
   "outputs": [],
   "source": [
    "from sklearn.preprocessing import LabelEncoder\n",
    "a=LabelEncoder()"
   ]
  },
  {
   "cell_type": "code",
   "execution_count": 177,
   "id": "8aa25949-7be0-4d4a-964d-8e51ef076a72",
   "metadata": {},
   "outputs": [],
   "source": [
    "object_columns = dataset.select_dtypes(include=['object']).columns"
   ]
  },
  {
   "cell_type": "code",
   "execution_count": 178,
   "id": "fa7a89a8-7cb6-4f94-82db-5cafcb3f7281",
   "metadata": {},
   "outputs": [
    {
     "data": {
      "text/plain": [
       "Index(['make', 'fuel-type', 'aspiration', 'num-of-doors', 'body-style',\n",
       "       'drive-wheels', 'engine-location', 'engine-type', 'num-of-cylinders',\n",
       "       'fuel-system'],\n",
       "      dtype='object')"
      ]
     },
     "execution_count": 178,
     "metadata": {},
     "output_type": "execute_result"
    }
   ],
   "source": [
    "object_columns"
   ]
  },
  {
   "cell_type": "code",
   "execution_count": 179,
   "id": "6059db70-56d6-4cc1-b160-3c75a678a04c",
   "metadata": {},
   "outputs": [],
   "source": [
    "for i in object_columns:\n",
    "    dataset[i]=a.fit_transform(dataset[i])"
   ]
  },
  {
   "cell_type": "code",
   "execution_count": 180,
   "id": "f8759d5b-6de8-41db-a13b-050db3c9ce56",
   "metadata": {},
   "outputs": [
    {
     "data": {
      "text/html": [
       "<div>\n",
       "<style scoped>\n",
       "    .dataframe tbody tr th:only-of-type {\n",
       "        vertical-align: middle;\n",
       "    }\n",
       "\n",
       "    .dataframe tbody tr th {\n",
       "        vertical-align: top;\n",
       "    }\n",
       "\n",
       "    .dataframe thead th {\n",
       "        text-align: right;\n",
       "    }\n",
       "</style>\n",
       "<table border=\"1\" class=\"dataframe\">\n",
       "  <thead>\n",
       "    <tr style=\"text-align: right;\">\n",
       "      <th></th>\n",
       "      <th>symboling</th>\n",
       "      <th>normalized-losses</th>\n",
       "      <th>make</th>\n",
       "      <th>fuel-type</th>\n",
       "      <th>aspiration</th>\n",
       "      <th>num-of-doors</th>\n",
       "      <th>body-style</th>\n",
       "      <th>drive-wheels</th>\n",
       "      <th>engine-location</th>\n",
       "      <th>wheel-base</th>\n",
       "      <th>...</th>\n",
       "      <th>engine-size</th>\n",
       "      <th>fuel-system</th>\n",
       "      <th>bore</th>\n",
       "      <th>stroke</th>\n",
       "      <th>compression-ratio</th>\n",
       "      <th>horsepower</th>\n",
       "      <th>peak-rpm</th>\n",
       "      <th>city-mpg</th>\n",
       "      <th>highway-mpg</th>\n",
       "      <th>price</th>\n",
       "    </tr>\n",
       "  </thead>\n",
       "  <tbody>\n",
       "    <tr>\n",
       "      <th>0</th>\n",
       "      <td>3</td>\n",
       "      <td>115.0</td>\n",
       "      <td>0</td>\n",
       "      <td>1</td>\n",
       "      <td>0</td>\n",
       "      <td>1</td>\n",
       "      <td>0</td>\n",
       "      <td>2</td>\n",
       "      <td>0</td>\n",
       "      <td>88.6</td>\n",
       "      <td>...</td>\n",
       "      <td>130</td>\n",
       "      <td>5</td>\n",
       "      <td>3.47</td>\n",
       "      <td>2.68</td>\n",
       "      <td>9.0</td>\n",
       "      <td>111.0</td>\n",
       "      <td>5000.0</td>\n",
       "      <td>21.0</td>\n",
       "      <td>27.0</td>\n",
       "      <td>13495.0</td>\n",
       "    </tr>\n",
       "    <tr>\n",
       "      <th>1</th>\n",
       "      <td>3</td>\n",
       "      <td>115.0</td>\n",
       "      <td>0</td>\n",
       "      <td>1</td>\n",
       "      <td>0</td>\n",
       "      <td>1</td>\n",
       "      <td>0</td>\n",
       "      <td>2</td>\n",
       "      <td>0</td>\n",
       "      <td>88.6</td>\n",
       "      <td>...</td>\n",
       "      <td>130</td>\n",
       "      <td>5</td>\n",
       "      <td>3.47</td>\n",
       "      <td>2.68</td>\n",
       "      <td>9.0</td>\n",
       "      <td>111.0</td>\n",
       "      <td>5000.0</td>\n",
       "      <td>21.0</td>\n",
       "      <td>27.0</td>\n",
       "      <td>16500.0</td>\n",
       "    </tr>\n",
       "    <tr>\n",
       "      <th>2</th>\n",
       "      <td>1</td>\n",
       "      <td>115.0</td>\n",
       "      <td>0</td>\n",
       "      <td>1</td>\n",
       "      <td>0</td>\n",
       "      <td>1</td>\n",
       "      <td>2</td>\n",
       "      <td>2</td>\n",
       "      <td>0</td>\n",
       "      <td>94.5</td>\n",
       "      <td>...</td>\n",
       "      <td>152</td>\n",
       "      <td>5</td>\n",
       "      <td>2.68</td>\n",
       "      <td>3.47</td>\n",
       "      <td>9.0</td>\n",
       "      <td>154.0</td>\n",
       "      <td>5000.0</td>\n",
       "      <td>19.0</td>\n",
       "      <td>26.0</td>\n",
       "      <td>16500.0</td>\n",
       "    </tr>\n",
       "    <tr>\n",
       "      <th>3</th>\n",
       "      <td>2</td>\n",
       "      <td>164.0</td>\n",
       "      <td>1</td>\n",
       "      <td>1</td>\n",
       "      <td>0</td>\n",
       "      <td>0</td>\n",
       "      <td>3</td>\n",
       "      <td>1</td>\n",
       "      <td>0</td>\n",
       "      <td>99.8</td>\n",
       "      <td>...</td>\n",
       "      <td>109</td>\n",
       "      <td>5</td>\n",
       "      <td>3.19</td>\n",
       "      <td>3.40</td>\n",
       "      <td>10.0</td>\n",
       "      <td>102.0</td>\n",
       "      <td>5500.0</td>\n",
       "      <td>24.0</td>\n",
       "      <td>30.0</td>\n",
       "      <td>13950.0</td>\n",
       "    </tr>\n",
       "    <tr>\n",
       "      <th>4</th>\n",
       "      <td>2</td>\n",
       "      <td>164.0</td>\n",
       "      <td>1</td>\n",
       "      <td>1</td>\n",
       "      <td>0</td>\n",
       "      <td>0</td>\n",
       "      <td>3</td>\n",
       "      <td>0</td>\n",
       "      <td>0</td>\n",
       "      <td>99.4</td>\n",
       "      <td>...</td>\n",
       "      <td>136</td>\n",
       "      <td>5</td>\n",
       "      <td>3.19</td>\n",
       "      <td>3.40</td>\n",
       "      <td>8.0</td>\n",
       "      <td>115.0</td>\n",
       "      <td>5500.0</td>\n",
       "      <td>18.0</td>\n",
       "      <td>22.0</td>\n",
       "      <td>17450.0</td>\n",
       "    </tr>\n",
       "    <tr>\n",
       "      <th>...</th>\n",
       "      <td>...</td>\n",
       "      <td>...</td>\n",
       "      <td>...</td>\n",
       "      <td>...</td>\n",
       "      <td>...</td>\n",
       "      <td>...</td>\n",
       "      <td>...</td>\n",
       "      <td>...</td>\n",
       "      <td>...</td>\n",
       "      <td>...</td>\n",
       "      <td>...</td>\n",
       "      <td>...</td>\n",
       "      <td>...</td>\n",
       "      <td>...</td>\n",
       "      <td>...</td>\n",
       "      <td>...</td>\n",
       "      <td>...</td>\n",
       "      <td>...</td>\n",
       "      <td>...</td>\n",
       "      <td>...</td>\n",
       "      <td>...</td>\n",
       "    </tr>\n",
       "    <tr>\n",
       "      <th>200</th>\n",
       "      <td>-1</td>\n",
       "      <td>95.0</td>\n",
       "      <td>21</td>\n",
       "      <td>1</td>\n",
       "      <td>0</td>\n",
       "      <td>0</td>\n",
       "      <td>3</td>\n",
       "      <td>2</td>\n",
       "      <td>0</td>\n",
       "      <td>109.1</td>\n",
       "      <td>...</td>\n",
       "      <td>141</td>\n",
       "      <td>5</td>\n",
       "      <td>3.78</td>\n",
       "      <td>3.15</td>\n",
       "      <td>9.5</td>\n",
       "      <td>114.0</td>\n",
       "      <td>5400.0</td>\n",
       "      <td>23.0</td>\n",
       "      <td>28.0</td>\n",
       "      <td>16845.0</td>\n",
       "    </tr>\n",
       "    <tr>\n",
       "      <th>201</th>\n",
       "      <td>-1</td>\n",
       "      <td>95.0</td>\n",
       "      <td>21</td>\n",
       "      <td>1</td>\n",
       "      <td>1</td>\n",
       "      <td>0</td>\n",
       "      <td>3</td>\n",
       "      <td>2</td>\n",
       "      <td>0</td>\n",
       "      <td>109.1</td>\n",
       "      <td>...</td>\n",
       "      <td>141</td>\n",
       "      <td>5</td>\n",
       "      <td>3.78</td>\n",
       "      <td>3.15</td>\n",
       "      <td>8.7</td>\n",
       "      <td>160.0</td>\n",
       "      <td>5300.0</td>\n",
       "      <td>19.0</td>\n",
       "      <td>25.0</td>\n",
       "      <td>19045.0</td>\n",
       "    </tr>\n",
       "    <tr>\n",
       "      <th>202</th>\n",
       "      <td>-1</td>\n",
       "      <td>95.0</td>\n",
       "      <td>21</td>\n",
       "      <td>1</td>\n",
       "      <td>0</td>\n",
       "      <td>0</td>\n",
       "      <td>3</td>\n",
       "      <td>2</td>\n",
       "      <td>0</td>\n",
       "      <td>109.1</td>\n",
       "      <td>...</td>\n",
       "      <td>173</td>\n",
       "      <td>5</td>\n",
       "      <td>3.58</td>\n",
       "      <td>2.87</td>\n",
       "      <td>8.8</td>\n",
       "      <td>134.0</td>\n",
       "      <td>5500.0</td>\n",
       "      <td>18.0</td>\n",
       "      <td>23.0</td>\n",
       "      <td>21485.0</td>\n",
       "    </tr>\n",
       "    <tr>\n",
       "      <th>203</th>\n",
       "      <td>-1</td>\n",
       "      <td>95.0</td>\n",
       "      <td>21</td>\n",
       "      <td>0</td>\n",
       "      <td>1</td>\n",
       "      <td>0</td>\n",
       "      <td>3</td>\n",
       "      <td>2</td>\n",
       "      <td>0</td>\n",
       "      <td>109.1</td>\n",
       "      <td>...</td>\n",
       "      <td>145</td>\n",
       "      <td>3</td>\n",
       "      <td>3.01</td>\n",
       "      <td>3.40</td>\n",
       "      <td>10.6</td>\n",
       "      <td>106.0</td>\n",
       "      <td>4800.0</td>\n",
       "      <td>26.0</td>\n",
       "      <td>27.0</td>\n",
       "      <td>22470.0</td>\n",
       "    </tr>\n",
       "    <tr>\n",
       "      <th>204</th>\n",
       "      <td>-1</td>\n",
       "      <td>95.0</td>\n",
       "      <td>21</td>\n",
       "      <td>1</td>\n",
       "      <td>1</td>\n",
       "      <td>0</td>\n",
       "      <td>3</td>\n",
       "      <td>2</td>\n",
       "      <td>0</td>\n",
       "      <td>109.1</td>\n",
       "      <td>...</td>\n",
       "      <td>141</td>\n",
       "      <td>5</td>\n",
       "      <td>3.78</td>\n",
       "      <td>3.15</td>\n",
       "      <td>9.5</td>\n",
       "      <td>114.0</td>\n",
       "      <td>5400.0</td>\n",
       "      <td>19.0</td>\n",
       "      <td>25.0</td>\n",
       "      <td>22625.0</td>\n",
       "    </tr>\n",
       "  </tbody>\n",
       "</table>\n",
       "<p>205 rows × 26 columns</p>\n",
       "</div>"
      ],
      "text/plain": [
       "     symboling  normalized-losses  make  fuel-type  aspiration  num-of-doors  \\\n",
       "0            3              115.0     0          1           0             1   \n",
       "1            3              115.0     0          1           0             1   \n",
       "2            1              115.0     0          1           0             1   \n",
       "3            2              164.0     1          1           0             0   \n",
       "4            2              164.0     1          1           0             0   \n",
       "..         ...                ...   ...        ...         ...           ...   \n",
       "200         -1               95.0    21          1           0             0   \n",
       "201         -1               95.0    21          1           1             0   \n",
       "202         -1               95.0    21          1           0             0   \n",
       "203         -1               95.0    21          0           1             0   \n",
       "204         -1               95.0    21          1           1             0   \n",
       "\n",
       "     body-style  drive-wheels  engine-location  wheel-base  ...  engine-size  \\\n",
       "0             0             2                0        88.6  ...          130   \n",
       "1             0             2                0        88.6  ...          130   \n",
       "2             2             2                0        94.5  ...          152   \n",
       "3             3             1                0        99.8  ...          109   \n",
       "4             3             0                0        99.4  ...          136   \n",
       "..          ...           ...              ...         ...  ...          ...   \n",
       "200           3             2                0       109.1  ...          141   \n",
       "201           3             2                0       109.1  ...          141   \n",
       "202           3             2                0       109.1  ...          173   \n",
       "203           3             2                0       109.1  ...          145   \n",
       "204           3             2                0       109.1  ...          141   \n",
       "\n",
       "     fuel-system  bore  stroke  compression-ratio  horsepower  peak-rpm  \\\n",
       "0              5  3.47    2.68                9.0       111.0    5000.0   \n",
       "1              5  3.47    2.68                9.0       111.0    5000.0   \n",
       "2              5  2.68    3.47                9.0       154.0    5000.0   \n",
       "3              5  3.19    3.40               10.0       102.0    5500.0   \n",
       "4              5  3.19    3.40                8.0       115.0    5500.0   \n",
       "..           ...   ...     ...                ...         ...       ...   \n",
       "200            5  3.78    3.15                9.5       114.0    5400.0   \n",
       "201            5  3.78    3.15                8.7       160.0    5300.0   \n",
       "202            5  3.58    2.87                8.8       134.0    5500.0   \n",
       "203            3  3.01    3.40               10.6       106.0    4800.0   \n",
       "204            5  3.78    3.15                9.5       114.0    5400.0   \n",
       "\n",
       "     city-mpg  highway-mpg    price  \n",
       "0        21.0         27.0  13495.0  \n",
       "1        21.0         27.0  16500.0  \n",
       "2        19.0         26.0  16500.0  \n",
       "3        24.0         30.0  13950.0  \n",
       "4        18.0         22.0  17450.0  \n",
       "..        ...          ...      ...  \n",
       "200      23.0         28.0  16845.0  \n",
       "201      19.0         25.0  19045.0  \n",
       "202      18.0         23.0  21485.0  \n",
       "203      26.0         27.0  22470.0  \n",
       "204      19.0         25.0  22625.0  \n",
       "\n",
       "[205 rows x 26 columns]"
      ]
     },
     "execution_count": 180,
     "metadata": {},
     "output_type": "execute_result"
    }
   ],
   "source": [
    "dataset"
   ]
  },
  {
   "cell_type": "code",
   "execution_count": 181,
   "id": "00d31e50-2d4c-4b60-b889-d190cd7719b4",
   "metadata": {},
   "outputs": [
    {
     "name": "stdout",
     "output_type": "stream",
     "text": [
      "<class 'pandas.core.frame.DataFrame'>\n",
      "RangeIndex: 205 entries, 0 to 204\n",
      "Data columns (total 26 columns):\n",
      " #   Column             Non-Null Count  Dtype  \n",
      "---  ------             --------------  -----  \n",
      " 0   symboling          205 non-null    int64  \n",
      " 1   normalized-losses  205 non-null    float64\n",
      " 2   make               205 non-null    int32  \n",
      " 3   fuel-type          205 non-null    int32  \n",
      " 4   aspiration         205 non-null    int32  \n",
      " 5   num-of-doors       205 non-null    int32  \n",
      " 6   body-style         205 non-null    int32  \n",
      " 7   drive-wheels       205 non-null    int32  \n",
      " 8   engine-location    205 non-null    int32  \n",
      " 9   wheel-base         205 non-null    float64\n",
      " 10  length             205 non-null    float64\n",
      " 11  width              205 non-null    float64\n",
      " 12  height             205 non-null    float64\n",
      " 13  curb-weight        205 non-null    int64  \n",
      " 14  engine-type        205 non-null    int32  \n",
      " 15  num-of-cylinders   205 non-null    int32  \n",
      " 16  engine-size        205 non-null    int64  \n",
      " 17  fuel-system        205 non-null    int32  \n",
      " 18  bore               205 non-null    float64\n",
      " 19  stroke             205 non-null    float64\n",
      " 20  compression-ratio  205 non-null    float64\n",
      " 21  horsepower         205 non-null    float64\n",
      " 22  peak-rpm           205 non-null    float64\n",
      " 23  city-mpg           205 non-null    float64\n",
      " 24  highway-mpg        205 non-null    float64\n",
      " 25  price              205 non-null    float64\n",
      "dtypes: float64(13), int32(10), int64(3)\n",
      "memory usage: 33.8 KB\n"
     ]
    }
   ],
   "source": [
    "dataset.info()"
   ]
  },
  {
   "cell_type": "markdown",
   "id": "d7152f4e-be4a-49ec-a015-675afe151722",
   "metadata": {},
   "source": [
    "## Scalling"
   ]
  },
  {
   "cell_type": "code",
   "execution_count": 182,
   "id": "dac8bb1e-f80a-4cb6-ac74-0c1b3773cbbd",
   "metadata": {},
   "outputs": [],
   "source": [
    "from sklearn.preprocessing import MinMaxScaler"
   ]
  },
  {
   "cell_type": "code",
   "execution_count": 184,
   "id": "068f0fba-21d6-47c0-b5d2-d8ddcadb4b02",
   "metadata": {},
   "outputs": [],
   "source": [
    "ms=MinMaxScaler()"
   ]
  },
  {
   "cell_type": "code",
   "execution_count": 186,
   "id": "8fb4c941-09c4-45af-9f48-be3d0a0b3f00",
   "metadata": {},
   "outputs": [],
   "source": [
    "for i in dataset.columns:\n",
    "    dataset[i]=ms.fit_transform(dataset[[i]])"
   ]
  },
  {
   "cell_type": "code",
   "execution_count": 187,
   "id": "17c7506c-b097-4d42-846c-726f7399f4f9",
   "metadata": {},
   "outputs": [
    {
     "data": {
      "text/html": [
       "<div>\n",
       "<style scoped>\n",
       "    .dataframe tbody tr th:only-of-type {\n",
       "        vertical-align: middle;\n",
       "    }\n",
       "\n",
       "    .dataframe tbody tr th {\n",
       "        vertical-align: top;\n",
       "    }\n",
       "\n",
       "    .dataframe thead th {\n",
       "        text-align: right;\n",
       "    }\n",
       "</style>\n",
       "<table border=\"1\" class=\"dataframe\">\n",
       "  <thead>\n",
       "    <tr style=\"text-align: right;\">\n",
       "      <th></th>\n",
       "      <th>symboling</th>\n",
       "      <th>normalized-losses</th>\n",
       "      <th>make</th>\n",
       "      <th>fuel-type</th>\n",
       "      <th>aspiration</th>\n",
       "      <th>num-of-doors</th>\n",
       "      <th>body-style</th>\n",
       "      <th>drive-wheels</th>\n",
       "      <th>engine-location</th>\n",
       "      <th>wheel-base</th>\n",
       "      <th>...</th>\n",
       "      <th>engine-size</th>\n",
       "      <th>fuel-system</th>\n",
       "      <th>bore</th>\n",
       "      <th>stroke</th>\n",
       "      <th>compression-ratio</th>\n",
       "      <th>horsepower</th>\n",
       "      <th>peak-rpm</th>\n",
       "      <th>city-mpg</th>\n",
       "      <th>highway-mpg</th>\n",
       "      <th>price</th>\n",
       "    </tr>\n",
       "  </thead>\n",
       "  <tbody>\n",
       "    <tr>\n",
       "      <th>0</th>\n",
       "      <td>1.0</td>\n",
       "      <td>0.396825</td>\n",
       "      <td>0.000000</td>\n",
       "      <td>1.0</td>\n",
       "      <td>0.0</td>\n",
       "      <td>1.0</td>\n",
       "      <td>0.00</td>\n",
       "      <td>1.0</td>\n",
       "      <td>0.0</td>\n",
       "      <td>0.072333</td>\n",
       "      <td>...</td>\n",
       "      <td>0.472603</td>\n",
       "      <td>0.714286</td>\n",
       "      <td>0.664286</td>\n",
       "      <td>0.016667</td>\n",
       "      <td>0.50000</td>\n",
       "      <td>0.459854</td>\n",
       "      <td>0.354167</td>\n",
       "      <td>0.238806</td>\n",
       "      <td>0.349206</td>\n",
       "      <td>0.342618</td>\n",
       "    </tr>\n",
       "    <tr>\n",
       "      <th>1</th>\n",
       "      <td>1.0</td>\n",
       "      <td>0.396825</td>\n",
       "      <td>0.000000</td>\n",
       "      <td>1.0</td>\n",
       "      <td>0.0</td>\n",
       "      <td>1.0</td>\n",
       "      <td>0.00</td>\n",
       "      <td>1.0</td>\n",
       "      <td>0.0</td>\n",
       "      <td>0.072333</td>\n",
       "      <td>...</td>\n",
       "      <td>0.472603</td>\n",
       "      <td>0.714286</td>\n",
       "      <td>0.664286</td>\n",
       "      <td>0.016667</td>\n",
       "      <td>0.50000</td>\n",
       "      <td>0.459854</td>\n",
       "      <td>0.354167</td>\n",
       "      <td>0.238806</td>\n",
       "      <td>0.349206</td>\n",
       "      <td>0.465521</td>\n",
       "    </tr>\n",
       "    <tr>\n",
       "      <th>2</th>\n",
       "      <td>0.6</td>\n",
       "      <td>0.396825</td>\n",
       "      <td>0.000000</td>\n",
       "      <td>1.0</td>\n",
       "      <td>0.0</td>\n",
       "      <td>1.0</td>\n",
       "      <td>0.50</td>\n",
       "      <td>1.0</td>\n",
       "      <td>0.0</td>\n",
       "      <td>0.285714</td>\n",
       "      <td>...</td>\n",
       "      <td>0.623288</td>\n",
       "      <td>0.714286</td>\n",
       "      <td>0.100000</td>\n",
       "      <td>0.675000</td>\n",
       "      <td>0.50000</td>\n",
       "      <td>0.773723</td>\n",
       "      <td>0.354167</td>\n",
       "      <td>0.179104</td>\n",
       "      <td>0.317460</td>\n",
       "      <td>0.465521</td>\n",
       "    </tr>\n",
       "    <tr>\n",
       "      <th>3</th>\n",
       "      <td>0.8</td>\n",
       "      <td>0.785714</td>\n",
       "      <td>0.047619</td>\n",
       "      <td>1.0</td>\n",
       "      <td>0.0</td>\n",
       "      <td>0.0</td>\n",
       "      <td>0.75</td>\n",
       "      <td>0.5</td>\n",
       "      <td>0.0</td>\n",
       "      <td>0.477396</td>\n",
       "      <td>...</td>\n",
       "      <td>0.328767</td>\n",
       "      <td>0.714286</td>\n",
       "      <td>0.464286</td>\n",
       "      <td>0.616667</td>\n",
       "      <td>0.81250</td>\n",
       "      <td>0.394161</td>\n",
       "      <td>0.562500</td>\n",
       "      <td>0.328358</td>\n",
       "      <td>0.444444</td>\n",
       "      <td>0.361227</td>\n",
       "    </tr>\n",
       "    <tr>\n",
       "      <th>4</th>\n",
       "      <td>0.8</td>\n",
       "      <td>0.785714</td>\n",
       "      <td>0.047619</td>\n",
       "      <td>1.0</td>\n",
       "      <td>0.0</td>\n",
       "      <td>0.0</td>\n",
       "      <td>0.75</td>\n",
       "      <td>0.0</td>\n",
       "      <td>0.0</td>\n",
       "      <td>0.462929</td>\n",
       "      <td>...</td>\n",
       "      <td>0.513699</td>\n",
       "      <td>0.714286</td>\n",
       "      <td>0.464286</td>\n",
       "      <td>0.616667</td>\n",
       "      <td>0.18750</td>\n",
       "      <td>0.489051</td>\n",
       "      <td>0.562500</td>\n",
       "      <td>0.149254</td>\n",
       "      <td>0.190476</td>\n",
       "      <td>0.504376</td>\n",
       "    </tr>\n",
       "    <tr>\n",
       "      <th>...</th>\n",
       "      <td>...</td>\n",
       "      <td>...</td>\n",
       "      <td>...</td>\n",
       "      <td>...</td>\n",
       "      <td>...</td>\n",
       "      <td>...</td>\n",
       "      <td>...</td>\n",
       "      <td>...</td>\n",
       "      <td>...</td>\n",
       "      <td>...</td>\n",
       "      <td>...</td>\n",
       "      <td>...</td>\n",
       "      <td>...</td>\n",
       "      <td>...</td>\n",
       "      <td>...</td>\n",
       "      <td>...</td>\n",
       "      <td>...</td>\n",
       "      <td>...</td>\n",
       "      <td>...</td>\n",
       "      <td>...</td>\n",
       "      <td>...</td>\n",
       "    </tr>\n",
       "    <tr>\n",
       "      <th>200</th>\n",
       "      <td>0.2</td>\n",
       "      <td>0.238095</td>\n",
       "      <td>1.000000</td>\n",
       "      <td>1.0</td>\n",
       "      <td>0.0</td>\n",
       "      <td>0.0</td>\n",
       "      <td>0.75</td>\n",
       "      <td>1.0</td>\n",
       "      <td>0.0</td>\n",
       "      <td>0.813743</td>\n",
       "      <td>...</td>\n",
       "      <td>0.547945</td>\n",
       "      <td>0.714286</td>\n",
       "      <td>0.885714</td>\n",
       "      <td>0.408333</td>\n",
       "      <td>0.65625</td>\n",
       "      <td>0.481752</td>\n",
       "      <td>0.520833</td>\n",
       "      <td>0.298507</td>\n",
       "      <td>0.380952</td>\n",
       "      <td>0.479632</td>\n",
       "    </tr>\n",
       "    <tr>\n",
       "      <th>201</th>\n",
       "      <td>0.2</td>\n",
       "      <td>0.238095</td>\n",
       "      <td>1.000000</td>\n",
       "      <td>1.0</td>\n",
       "      <td>1.0</td>\n",
       "      <td>0.0</td>\n",
       "      <td>0.75</td>\n",
       "      <td>1.0</td>\n",
       "      <td>0.0</td>\n",
       "      <td>0.813743</td>\n",
       "      <td>...</td>\n",
       "      <td>0.547945</td>\n",
       "      <td>0.714286</td>\n",
       "      <td>0.885714</td>\n",
       "      <td>0.408333</td>\n",
       "      <td>0.40625</td>\n",
       "      <td>0.817518</td>\n",
       "      <td>0.479167</td>\n",
       "      <td>0.179104</td>\n",
       "      <td>0.285714</td>\n",
       "      <td>0.569611</td>\n",
       "    </tr>\n",
       "    <tr>\n",
       "      <th>202</th>\n",
       "      <td>0.2</td>\n",
       "      <td>0.238095</td>\n",
       "      <td>1.000000</td>\n",
       "      <td>1.0</td>\n",
       "      <td>0.0</td>\n",
       "      <td>0.0</td>\n",
       "      <td>0.75</td>\n",
       "      <td>1.0</td>\n",
       "      <td>0.0</td>\n",
       "      <td>0.813743</td>\n",
       "      <td>...</td>\n",
       "      <td>0.767123</td>\n",
       "      <td>0.714286</td>\n",
       "      <td>0.742857</td>\n",
       "      <td>0.175000</td>\n",
       "      <td>0.43750</td>\n",
       "      <td>0.627737</td>\n",
       "      <td>0.562500</td>\n",
       "      <td>0.149254</td>\n",
       "      <td>0.222222</td>\n",
       "      <td>0.669407</td>\n",
       "    </tr>\n",
       "    <tr>\n",
       "      <th>203</th>\n",
       "      <td>0.2</td>\n",
       "      <td>0.238095</td>\n",
       "      <td>1.000000</td>\n",
       "      <td>0.0</td>\n",
       "      <td>1.0</td>\n",
       "      <td>0.0</td>\n",
       "      <td>0.75</td>\n",
       "      <td>1.0</td>\n",
       "      <td>0.0</td>\n",
       "      <td>0.813743</td>\n",
       "      <td>...</td>\n",
       "      <td>0.575342</td>\n",
       "      <td>0.428571</td>\n",
       "      <td>0.335714</td>\n",
       "      <td>0.616667</td>\n",
       "      <td>1.00000</td>\n",
       "      <td>0.423358</td>\n",
       "      <td>0.270833</td>\n",
       "      <td>0.388060</td>\n",
       "      <td>0.349206</td>\n",
       "      <td>0.709693</td>\n",
       "    </tr>\n",
       "    <tr>\n",
       "      <th>204</th>\n",
       "      <td>0.2</td>\n",
       "      <td>0.238095</td>\n",
       "      <td>1.000000</td>\n",
       "      <td>1.0</td>\n",
       "      <td>1.0</td>\n",
       "      <td>0.0</td>\n",
       "      <td>0.75</td>\n",
       "      <td>1.0</td>\n",
       "      <td>0.0</td>\n",
       "      <td>0.813743</td>\n",
       "      <td>...</td>\n",
       "      <td>0.547945</td>\n",
       "      <td>0.714286</td>\n",
       "      <td>0.885714</td>\n",
       "      <td>0.408333</td>\n",
       "      <td>0.65625</td>\n",
       "      <td>0.481752</td>\n",
       "      <td>0.520833</td>\n",
       "      <td>0.179104</td>\n",
       "      <td>0.285714</td>\n",
       "      <td>0.716033</td>\n",
       "    </tr>\n",
       "  </tbody>\n",
       "</table>\n",
       "<p>205 rows × 26 columns</p>\n",
       "</div>"
      ],
      "text/plain": [
       "     symboling  normalized-losses      make  fuel-type  aspiration  \\\n",
       "0          1.0           0.396825  0.000000        1.0         0.0   \n",
       "1          1.0           0.396825  0.000000        1.0         0.0   \n",
       "2          0.6           0.396825  0.000000        1.0         0.0   \n",
       "3          0.8           0.785714  0.047619        1.0         0.0   \n",
       "4          0.8           0.785714  0.047619        1.0         0.0   \n",
       "..         ...                ...       ...        ...         ...   \n",
       "200        0.2           0.238095  1.000000        1.0         0.0   \n",
       "201        0.2           0.238095  1.000000        1.0         1.0   \n",
       "202        0.2           0.238095  1.000000        1.0         0.0   \n",
       "203        0.2           0.238095  1.000000        0.0         1.0   \n",
       "204        0.2           0.238095  1.000000        1.0         1.0   \n",
       "\n",
       "     num-of-doors  body-style  drive-wheels  engine-location  wheel-base  ...  \\\n",
       "0             1.0        0.00           1.0              0.0    0.072333  ...   \n",
       "1             1.0        0.00           1.0              0.0    0.072333  ...   \n",
       "2             1.0        0.50           1.0              0.0    0.285714  ...   \n",
       "3             0.0        0.75           0.5              0.0    0.477396  ...   \n",
       "4             0.0        0.75           0.0              0.0    0.462929  ...   \n",
       "..            ...         ...           ...              ...         ...  ...   \n",
       "200           0.0        0.75           1.0              0.0    0.813743  ...   \n",
       "201           0.0        0.75           1.0              0.0    0.813743  ...   \n",
       "202           0.0        0.75           1.0              0.0    0.813743  ...   \n",
       "203           0.0        0.75           1.0              0.0    0.813743  ...   \n",
       "204           0.0        0.75           1.0              0.0    0.813743  ...   \n",
       "\n",
       "     engine-size  fuel-system      bore    stroke  compression-ratio  \\\n",
       "0       0.472603     0.714286  0.664286  0.016667            0.50000   \n",
       "1       0.472603     0.714286  0.664286  0.016667            0.50000   \n",
       "2       0.623288     0.714286  0.100000  0.675000            0.50000   \n",
       "3       0.328767     0.714286  0.464286  0.616667            0.81250   \n",
       "4       0.513699     0.714286  0.464286  0.616667            0.18750   \n",
       "..           ...          ...       ...       ...                ...   \n",
       "200     0.547945     0.714286  0.885714  0.408333            0.65625   \n",
       "201     0.547945     0.714286  0.885714  0.408333            0.40625   \n",
       "202     0.767123     0.714286  0.742857  0.175000            0.43750   \n",
       "203     0.575342     0.428571  0.335714  0.616667            1.00000   \n",
       "204     0.547945     0.714286  0.885714  0.408333            0.65625   \n",
       "\n",
       "     horsepower  peak-rpm  city-mpg  highway-mpg     price  \n",
       "0      0.459854  0.354167  0.238806     0.349206  0.342618  \n",
       "1      0.459854  0.354167  0.238806     0.349206  0.465521  \n",
       "2      0.773723  0.354167  0.179104     0.317460  0.465521  \n",
       "3      0.394161  0.562500  0.328358     0.444444  0.361227  \n",
       "4      0.489051  0.562500  0.149254     0.190476  0.504376  \n",
       "..          ...       ...       ...          ...       ...  \n",
       "200    0.481752  0.520833  0.298507     0.380952  0.479632  \n",
       "201    0.817518  0.479167  0.179104     0.285714  0.569611  \n",
       "202    0.627737  0.562500  0.149254     0.222222  0.669407  \n",
       "203    0.423358  0.270833  0.388060     0.349206  0.709693  \n",
       "204    0.481752  0.520833  0.179104     0.285714  0.716033  \n",
       "\n",
       "[205 rows x 26 columns]"
      ]
     },
     "execution_count": 187,
     "metadata": {},
     "output_type": "execute_result"
    }
   ],
   "source": [
    "dataset"
   ]
  }
 ],
 "metadata": {
  "kernelspec": {
   "display_name": "Python 3 (ipykernel)",
   "language": "python",
   "name": "python3"
  },
  "language_info": {
   "codemirror_mode": {
    "name": "ipython",
    "version": 3
   },
   "file_extension": ".py",
   "mimetype": "text/x-python",
   "name": "python",
   "nbconvert_exporter": "python",
   "pygments_lexer": "ipython3",
   "version": "3.12.5"
  }
 },
 "nbformat": 4,
 "nbformat_minor": 5
}
